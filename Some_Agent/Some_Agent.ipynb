{
 "cells": [
  {
   "cell_type": "code",
   "execution_count": 22,
   "metadata": {},
   "outputs": [],
   "source": [
    "import math\n",
    "import random\n",
    "import pandas as pd\n",
    "import numpy as np\n",
    "\n",
    "from IPython.display import clear_output\n",
    "from tqdm.notebook import tqdm"
   ]
  },
  {
   "cell_type": "code",
   "execution_count": 23,
   "metadata": {},
   "outputs": [],
   "source": [
    "seed = 61\n",
    "random.seed(seed)\n",
    "np.random.seed(seed)"
   ]
  },
  {
   "cell_type": "code",
   "execution_count": 24,
   "metadata": {},
   "outputs": [],
   "source": [
    "import os\n",
    "from typing import Annotated, Sequence, TypedDict, List, Dict\n",
    "from dotenv import load_dotenv  \n",
    "from langchain_core.messages import BaseMessage # The foundational class for all message types in LangGraph\n",
    "from langchain_core.messages import ToolMessage # Passes data back to LLM after it calls a tool such as the content and the tool_call_id\n",
    "from langchain_core.messages import SystemMessage # Message for providing instructions to the LLM\n",
    "from langchain_openai import ChatOpenAI\n",
    "from langchain_core.tools import tool\n",
    "from langgraph.graph.message import add_messages\n",
    "from langgraph.graph import StateGraph, START, END\n",
    "from langgraph.prebuilt import ToolNode\n",
    "from langchain_core.prompts import ChatPromptTemplate\n",
    "from langchain_community.tools import DuckDuckGoSearchRun, Tool\n",
    "from tavily import TavilyClient"
   ]
  },
  {
   "cell_type": "markdown",
   "metadata": {},
   "source": [
    "### Краткое описание"
   ]
  },
  {
   "cell_type": "markdown",
   "metadata": {},
   "source": [
    "В данном файле представлена одна из версий \"какого-то агента\", который под капотом имеет возможность обращаться к поисковой строке.  \n",
    "Общая логика и архитектура сохранились и в следующих версиях, однако, в финальных версиях менялись или дорабатывались промпты на всех этапах работы агента.  \n",
    "Данный агент не запускался на всей тестовой выборке, а работал на валидационном наборе данных, взятых из трейн выборки.  \n",
    "В ходе работ на данном этапе выяснились ряд недостатков. Изначально предполагалась работа агента на моделях от QWEN (qwen3-32b, qwen3-235b-a22b). Обе модели с ризонингом и вроде справлялись с задачей, но слишком долго размышляли (порядка 14-17 и более мин на 100 запросов). Поэтому было принято решение отказаться от этих LLM в пользу модели без ризонинга  - deepseek-chat-v3. Однако, V3 оказалась весьма капризной к промптам и потребовала их изменений, что будет показано в разделе \"финальных\" агентов. "
   ]
  },
  {
   "cell_type": "markdown",
   "metadata": {
    "id": "XSXK6Hu3RoN0"
   },
   "source": [
    "### Загрузка данных"
   ]
  },
  {
   "cell_type": "markdown",
   "metadata": {},
   "source": [
    "Для задач по работе с данным агентом был подготовлен отдельный валидационный набор данных. Загрузимся сразу из него."
   ]
  },
  {
   "cell_type": "code",
   "execution_count": 25,
   "metadata": {},
   "outputs": [],
   "source": [
    "val_data = pd.read_excel('val_100_summarized.xlsx')\n",
    "val_data.drop('Unnamed: 0', axis=1, inplace=True)"
   ]
  },
  {
   "cell_type": "code",
   "execution_count": 26,
   "metadata": {
    "scrolled": true
   },
   "outputs": [
    {
     "data": {
      "text/html": [
       "<div>\n",
       "<style scoped>\n",
       "    .dataframe tbody tr th:only-of-type {\n",
       "        vertical-align: middle;\n",
       "    }\n",
       "\n",
       "    .dataframe tbody tr th {\n",
       "        vertical-align: top;\n",
       "    }\n",
       "\n",
       "    .dataframe thead th {\n",
       "        text-align: right;\n",
       "    }\n",
       "</style>\n",
       "<table border=\"1\" class=\"dataframe\">\n",
       "  <thead>\n",
       "    <tr style=\"text-align: right;\">\n",
       "      <th></th>\n",
       "      <th>text</th>\n",
       "      <th>address</th>\n",
       "      <th>name</th>\n",
       "      <th>relevance</th>\n",
       "      <th>summarized</th>\n",
       "    </tr>\n",
       "  </thead>\n",
       "  <tbody>\n",
       "    <tr>\n",
       "      <th>0</th>\n",
       "      <td>макароны из фундучной муки</td>\n",
       "      <td>Смоленск, улица Кутузова, 54</td>\n",
       "      <td>Metro; Metro Cash &amp; Carry; Metro Cash &amp;amp; Ca...</td>\n",
       "      <td>0</td>\n",
       "      <td>Продуктовый гипермаркет ; Продуктовый гипермар...</td>\n",
       "    </tr>\n",
       "    <tr>\n",
       "      <th>1</th>\n",
       "      <td>рейтинг суши баров</td>\n",
       "      <td>Москва, Новодмитровская улица, 1с6</td>\n",
       "      <td>Такеши; Takeshi; Суши бар Takeshi; Суши-бар Та...</td>\n",
       "      <td>1</td>\n",
       "      <td>Суши-бар ; Суши-бар «Такеши» предлагает широки...</td>\n",
       "    </tr>\n",
       "  </tbody>\n",
       "</table>\n",
       "</div>"
      ],
      "text/plain": [
       "                         text                             address  \\\n",
       "0  макароны из фундучной муки        Смоленск, улица Кутузова, 54   \n",
       "1          рейтинг суши баров  Москва, Новодмитровская улица, 1с6   \n",
       "\n",
       "                                                name  relevance  \\\n",
       "0  Metro; Metro Cash & Carry; Metro Cash &amp; Ca...          0   \n",
       "1  Такеши; Takeshi; Суши бар Takeshi; Суши-бар Та...          1   \n",
       "\n",
       "                                          summarized  \n",
       "0  Продуктовый гипермаркет ; Продуктовый гипермар...  \n",
       "1  Суши-бар ; Суши-бар «Такеши» предлагает широки...  "
      ]
     },
     "execution_count": 26,
     "metadata": {},
     "output_type": "execute_result"
    }
   ],
   "source": [
    "val_data.head(2)"
   ]
  },
  {
   "cell_type": "code",
   "execution_count": 27,
   "metadata": {},
   "outputs": [
    {
     "data": {
      "text/plain": [
       "(100, 5)"
      ]
     },
     "execution_count": 27,
     "metadata": {},
     "output_type": "execute_result"
    }
   ],
   "source": [
    "val_data.shape"
   ]
  },
  {
   "cell_type": "markdown",
   "metadata": {},
   "source": [
    "### Агент"
   ]
  },
  {
   "cell_type": "markdown",
   "metadata": {},
   "source": [
    "Данный агент на Langgraph, а в качестве поиска используется Tavily. Изначально поисковиком выступал DuckDuckGo, но спустя короткое время они стали блокировать запросы. "
   ]
  },
  {
   "cell_type": "code",
   "execution_count": 28,
   "metadata": {},
   "outputs": [],
   "source": [
    "# Вызываем модель и передаем ей инструменты\n",
    "load_dotenv()\n",
    "model = ChatOpenAI(\n",
    "    model=\"deepseek/deepseek-chat-v3-0324\",  # Модель\n",
    "    base_url=\"https://api.ai-mediator.ru/v1\",  # Кастомный URL API\n",
    "    api_key=os.getenv(\"OPENAI_API_KEY\"),  # Ключ из переменных окружения\n",
    "    temperature=0,  # Опционально, как в примере\n",
    "    )\n",
    "\n",
    "# Загружаем ключи для поисковика - TAVILY_API_KEY из .env\n",
    "tavily = TavilyClient(api_key=os.getenv(\"TAVILY_API_KEY\")) "
   ]
  },
  {
   "cell_type": "code",
   "execution_count": 29,
   "metadata": {},
   "outputs": [],
   "source": [
    "# Опишем состояние агента\n",
    "class AgentState(TypedDict):\n",
    "    user_query: str                # запрос пользователя\n",
    "    organization_address: str      # \n",
    "    organization_name: str         # \n",
    "    summary: str                   # обобщенная инфо\n",
    "    sufficiency: List[str]         # \"ДОСТАТОЧНО\" | \"НЕДОСТАТОЧНО: <причина>\"\n",
    "    classification: str            # \"relevant\" / \"irrelevant\"\n",
    "    additional_info: str           # additional_info - получение доп инфо в т.ч. из интернета\n",
    "    number_of_requests: int\n",
    "    subject_of_clarification: str  # что требуется уточнить\n",
    "    search_query: str              # поисковый запрос от LLM"
   ]
  },
  {
   "cell_type": "markdown",
   "metadata": {},
   "source": [
    "Раздел с промптами для 3-х этапов работы агента:  \n",
    "1) Этап определения достаточно ли инфо для решения о релевантности организации запросу.\n",
    "2) Этап поиска в интернете.\n",
    "3) Этап классификации."
   ]
  },
  {
   "cell_type": "code",
   "execution_count": 30,
   "metadata": {},
   "outputs": [],
   "source": [
    "# Раздел с промптами\n",
    "\n",
    "# ПРОМПТ ДЛЯ ЗАДАЧИ ОПРЕДЕЛЕНИЯ ДОСТАТОЧНОСТИ ИНФО\n",
    "SUFFICIENCY_PROMPT = SystemMessage(content=\"\"\"\n",
    "**Задача:** Оцени, достаточно ли предоставленной информации об организации \n",
    "('Адрес', 'Название', 'Сводка' и 'Дополнительная информация'), чтобы уверенно определить \n",
    "относится ли организация к 'user_query' (ЗАПРОС ПОЛЬЗОВАТЕЛЯ): 1 - ОТНОСИТСЯ, 0 - НЕ ОТНОСИТСЯ.\n",
    "\n",
    "**Инструкции по оценке достаточности:**\n",
    "1. Определи, есть ли в запросе географические указания (город, район, адрес). Если нет - пункт 2 не применяй, поле 'Адрес' не используй.\n",
    "2. Учитывай географическую принадлежность к городу (ТОЛЬКО если в запросе явно указан город):\n",
    "    - если город в запросе пользователя не совпадает с городом в Адресе - этого ДОСТАТОЧНО для вывода, что организация НЕ ОТНОСИТСЯ к запросу пользователя.\n",
    "3. Оцени совпадение по ключевым словам (\"налоговая\", \"больница\", ресторан и т.д.) и номеру (если цифры есть в запросе):\n",
    "    а) если явно следует, что организация относится к запросу пользователя - информации \"ДОСТАТОЧНО\";\n",
    "    б) если есть явные не совпадения и понятно, что организация НЕ ОТНОСИТСЯ к запросу пользователя - информации \"ДОСТАТОЧНО\"\n",
    "4. Оцени случаи явного несоответсвия: если основная деятельность организации очевидно НЕ ОТНОСИТСЯ к типу объекта в запросе, информации \"ДОСТАТОЧНО\".\n",
    "5. Оцени другие возможные критерии, исходя из которых можно сделать вывод об информации: \"ДОСТАТОЧНО\" или \"НЕДОСТАТОЧНО\".\n",
    "\n",
    "**Твой вывод ДОЛЖЕН быть одним из вариантов:**\n",
    "*   Если без дополнительных данных можно уверенно понять относится ли организация к ЗАПРОСУ ПОЛЬЗОВАТЕЛЯ (1 - ОТНОСИТСЯ, 0 - НЕ ОТНОСИТСЯ) - дай ответ в одно слово \"ДОСТАТОЧНО\"\n",
    "*   Если информации недостаточно — выведи слово \"НЕДОСТАТОЧНО\", затем через двоеточие кратко укажи, какой критической информации не хватает.\n",
    "\"\"\")\n",
    "\n",
    "# ПРОМПТ ДЛЯ ЗАДАЧИ ОПРЕДЕЛЕНИЯ РЕЛЕВАНТНОСТИ\n",
    "SYSTEM_PROMPT = SystemMessage(content=\"\"\"\n",
    "Ты помощник для классификации организаций. \n",
    "Оцени, относится ли организация к пользовательскому запросу.\n",
    "Отвечай только \"relevant\" или \"irrelevant\".\n",
    "\n",
    "**Правила:**\n",
    "1. Сначала определи, есть ли в запросе географические указания (город, район, адрес). Если нет - пункт 4 не применяй.\n",
    "2. Совпадение по ключевым словам (\"налоговая\", \"больница\" и т.д.)\n",
    "3. Совпадение по номеру (если цифры есть в запросе)\n",
    "4. Географическая принадлежность (ТОЛЬКО если в запросе явно указан город/адрес)\n",
    "\n",
    "**Примеры:**\n",
    "Запрос \"налоговая 5007\" → проверяй только ключевые слова и номер\n",
    "Запрос \"больница в Королёве\" → проверяй ключевые слова и геолокацию\n",
    "\"\"\")\n",
    "\n",
    "# ПРОМПТ ФОРМИРОВАНИЯ ЗАПРОСА В ИНТЕРНЕТ\n",
    "SEARCH_PROMPT = ChatPromptTemplate.from_template(\n",
    "    \"\"\"Сформируй точный поисковый запрос (4-7 слов) для Tavily. \n",
    "    Цель: найти информацию об организации {organization_name} ({organization_address}) \n",
    "    по теме: {subject_of_clarification}\n",
    "    \n",
    "    Примеры хороших запросов:\n",
    "    - \"официальный сайт ООО Ромашка Москва\"\n",
    "    - \"отзывы о банке ВТБ Королёв\"\n",
    "    - \"деятельность ИП Сидоров производство мебели\"\n",
    "    \n",
    "    Только запрос, без кавычек и точек.\"\"\"\n",
    ")"
   ]
  },
  {
   "cell_type": "code",
   "execution_count": 31,
   "metadata": {},
   "outputs": [],
   "source": [
    "def sufficiency_of_info(state: AgentState) -> AgentState:\n",
    "    \"\"\" Определеят достаточно ли информации для принятия решения \"\"\"\n",
    "    # Принудительный переход к классификации если были предыдущие запросы\n",
    "    if state['number_of_requests'] > 0:\n",
    "        state['sufficiency'].append(\"ДОСТАТОЧНО (принудительно)\")\n",
    "        return state\n",
    "        \n",
    "    # Оригинальная логика оценки достаточности\n",
    "    user_prompt = f\"\"\"\n",
    "    ЗАПРОС ПОЛЬЗОВАТЕЛЯ: {state['user_query']}\n",
    "    \n",
    "    ИНФОРМАЦИЯ ОБ ОРГАНИЗАЦИИ:\n",
    "    - Адрес: {state['organization_address']}\n",
    "    - Название: {state['organization_name']}\n",
    "    - Сводка: {state['summary']}\n",
    "    - Дополнительная информация: {state['additional_info']}\n",
    "    - Количество запросов: {state['number_of_requests']}\n",
    "    \"\"\"\n",
    "\n",
    "    # Вызов модели с обработкой ответа\n",
    "    response = model.invoke([SUFFICIENCY_PROMPT, user_prompt])\n",
    "    \n",
    "    # Простая валидация ответа\n",
    "    sufficiency = response.content\n",
    "    state['sufficiency'].append(sufficiency)\n",
    "    if \"НЕДОСТАТОЧНО\" in state['sufficiency'][-1]:\n",
    "        state['subject_of_clarification'] = sufficiency.split(\":\")[-1].strip()\n",
    "    \n",
    "    # Возвращаем обновленное состояние\n",
    "    return state"
   ]
  },
  {
   "cell_type": "markdown",
   "metadata": {},
   "source": [
    "Поскольку у Tavily ограничения на пробный период в 1000 запросов, приходилось делать \"заглушку\", чтобы оценить какой запрос формирует агент.  Для наглядности оставляю этот код, но закомментирую. "
   ]
  },
  {
   "cell_type": "code",
   "execution_count": 12,
   "metadata": {},
   "outputs": [],
   "source": [
    "# def add_info(state: AgentState) -> AgentState:\n",
    "#     \"\"\"Инструменты для получения дополнительной информации\"\"\"\n",
    "#     prompt = SEARCH_PROMPT.format(\n",
    "#         organization_address=state['organization_address'], \n",
    "#         organization_name=state[\"organization_name\"], \n",
    "#         subject_of_clarification=state[\"subject_of_clarification\"]\n",
    "#     )\n",
    "    \n",
    "#     # Вызываем LLM для создания запроса\n",
    "#     search_query = model.invoke(prompt).content\n",
    "\n",
    "#     # Обновляем состояние\n",
    "#     state['search_query'] = search_query\n",
    "#     state['additional_info'] = 'Дополнительная информация:'\n",
    "#     state['number_of_requests'] += 1\n",
    "\n",
    "#     return state"
   ]
  },
  {
   "cell_type": "markdown",
   "metadata": {},
   "source": [
    "Сама рабочая функция"
   ]
  },
  {
   "cell_type": "code",
   "execution_count": 32,
   "metadata": {},
   "outputs": [],
   "source": [
    "def add_info(state: AgentState) -> AgentState:\n",
    "    \"\"\"Инструменты для получения дополнительной информации\"\"\"\n",
    "    # Формируем поисковый запрос \n",
    "    prompt = SEARCH_PROMPT.format(\n",
    "        organization_address=state['organization_address'],\n",
    "        organization_name=state[\"organization_name\"],\n",
    "        subject_of_clarification=state[\"subject_of_clarification\"]\n",
    "    )\n",
    "    search_query = model.invoke(prompt).content\n",
    "    \n",
    "    # Поиск через Tavily\n",
    "    search_results = tavily.search(\n",
    "        query=search_query,\n",
    "        search_depth=\"basic\",  # \"advanced\" для глубокого поиска (но дольше)\n",
    "        include_answer=True,    # Tavily сам суммирует результаты\n",
    "        include_raw_content=True,\n",
    "        include_images=False,\n",
    "        max_results=3,          # Оптимально для нашей задачи\n",
    "    )\n",
    "    \n",
    "    # Форматируем результаты для агента\n",
    "    formatted_results = (\n",
    "        f\"Ответ Tavily: {search_results.get('answer', 'Нет краткого ответа')} \" \n",
    "        f\"Источники: \" + \" \".join([f\"- {src['url']}: {src['content']};\" \n",
    "                                   for src in search_results.get('results', [])])\n",
    "    )\n",
    "    \n",
    "    # Обновляем состояние\n",
    "    state['search_query'] = search_query\n",
    "    state['additional_info'] = formatted_results\n",
    "    state['number_of_requests'] += 1\n",
    "        \n",
    "    return state"
   ]
  },
  {
   "cell_type": "code",
   "execution_count": 33,
   "metadata": {},
   "outputs": [],
   "source": [
    "def classify_relevance(state: AgentState) -> AgentState:\n",
    "    \"\"\"Определяет релевантна ли организация запросу пользователя\"\"\"\n",
    "    \n",
    "    # Формируем понятный запрос к модели\n",
    "    user_prompt = f\"\"\"\n",
    "    ЗАПРОС ПОЛЬЗОВАТЕЛЯ: {state['user_query']}\n",
    "    \n",
    "    ИНФОРМАЦИЯ ОБ ОРГАНИЗАЦИИ:\n",
    "    - Адрес: {state['organization_address']}\n",
    "    - Название: {state['organization_name']}\n",
    "    - Сводка: {state['summary']}\n",
    "    - Дополнительная информация: {state['additional_info']}\n",
    "    \"\"\"\n",
    "    \n",
    "    # Вызов модели с обработкой ответа\n",
    "    response = model.invoke([SYSTEM_PROMPT, user_prompt])\n",
    "   \n",
    "    # Простая валидация ответа\n",
    "    classification = response.content\n",
    "    \n",
    "    # Возвращаем обновленное состояние\n",
    "    return {**state, \"classification\": classification}"
   ]
  },
  {
   "cell_type": "code",
   "execution_count": 34,
   "metadata": {},
   "outputs": [],
   "source": [
    "def router(state: AgentState) -> str:\n",
    "    # Принудительно идем на классификацию если были попытки запроса\n",
    "    if state['number_of_requests'] > 0:\n",
    "        return \"proceed_to_classify\"\n",
    "        \n",
    "    # Стандартная логика\n",
    "    if \"НЕДОСТАТОЧНО\" in state['sufficiency'][-1]:\n",
    "        return \"need_more_info\"\n",
    "    return \"proceed_to_classify\""
   ]
  },
  {
   "cell_type": "code",
   "execution_count": 35,
   "metadata": {},
   "outputs": [],
   "source": [
    "# 5. Собираем полный граф\n",
    "graph = StateGraph(AgentState)\n",
    "\n",
    "# Добавляем узлы\n",
    "graph.add_node('info_sufficiency', sufficiency_of_info)\n",
    "graph.add_node('add_info',  add_info)\n",
    "graph.add_node('classify', classify_relevance)\n",
    "\n",
    "# Добавляем ребра\n",
    "graph.add_edge(START, 'info_sufficiency')\n",
    "graph.add_conditional_edges(\n",
    "    'info_sufficiency',\n",
    "    router,\n",
    "    {\n",
    "        \"need_more_info\": \"add_info\",\n",
    "        \"proceed_to_classify\": \"classify\"\n",
    "    }\n",
    ")\n",
    "graph.add_edge('add_info', 'info_sufficiency')\n",
    "graph.add_edge('classify', END)\n",
    "\n",
    "app = graph.compile()"
   ]
  },
  {
   "cell_type": "code",
   "execution_count": 36,
   "metadata": {},
   "outputs": [
    {
     "data": {
      "image/png": "[encoded data removed]",
      "text/plain": [
       "<IPython.core.display.Image object>"
      ]
     },
     "metadata": {},
     "output_type": "display_data"
    }
   ],
   "source": [
    "from IPython.display import Image, display\n",
    "display(Image(app.get_graph().draw_mermaid_png()))"
   ]
  },
  {
   "cell_type": "markdown",
   "metadata": {},
   "source": [
    "Вызов агента в данной \"пробной\" версии был через цикл, затем это было оформлено в отдельную функцию вызова."
   ]
  },
  {
   "cell_type": "code",
   "execution_count": 37,
   "metadata": {
    "scrolled": true
   },
   "outputs": [
    {
     "data": {
      "application/vnd.jupyter.widget-view+json": {
       "model_id": "ed38d74aec254bd897267777ba70b11a",
       "version_major": 2,
       "version_minor": 0
      },
      "text/plain": [
       "  0%|          | 0/100 [00:00<?, ?it/s]"
      ]
     },
     "metadata": {},
     "output_type": "display_data"
    }
   ],
   "source": [
    "results = []\n",
    "num = val_data.shape[0]\n",
    "\n",
    "for i in tqdm(range(num)):\n",
    "    initial_state: AgentState = {\n",
    "        \"user_query\": val_data['text'].iloc[i], \n",
    "        \"organization_address\": val_data['address'].iloc[i], \n",
    "        \"organization_name\": val_data['name'].iloc[i], \n",
    "        \"summary\": val_data['summarized'].iloc[i], \n",
    "        \"sufficiency\": [], \n",
    "        \"classification\": \"\", \n",
    "        \"additional_info\": \"\",\n",
    "        \"number_of_requests\": 0, \n",
    "        \"subject_of_clarification\": \"\", \n",
    "        \"search_query\": \"\"\n",
    "    }\n",
    "    \n",
    "    result = app.invoke(initial_state)\n",
    "\n",
    "    # Сохраняем нужные поля в словарь\n",
    "    results.append({\n",
    "        \"address\": result[\"organization_address\"],\n",
    "        \"name\": result[\"organization_name\"],\n",
    "        \"sufficiency\": result[\"sufficiency\"],\n",
    "        \"classification\": result[\"classification\"],\n",
    "        \"additional_info\": result[\"additional_info\"],\n",
    "        \"subject_of_clarification\": result[\"subject_of_clarification\"],\n",
    "        \"search_query\": result[\"search_query\"]\n",
    "    })"
   ]
  },
  {
   "cell_type": "markdown",
   "metadata": {},
   "source": [
    "**Смотрим результаты работы агента**"
   ]
  },
  {
   "cell_type": "code",
   "execution_count": 38,
   "metadata": {},
   "outputs": [],
   "source": [
    "df = pd.DataFrame(results)"
   ]
  },
  {
   "cell_type": "code",
   "execution_count": 39,
   "metadata": {},
   "outputs": [],
   "source": [
    "df['agent_cls'] = np.where(df['classification'].str.contains('irrelevant'), 0, 1)"
   ]
  },
  {
   "cell_type": "code",
   "execution_count": 40,
   "metadata": {},
   "outputs": [],
   "source": [
    "merged_df = pd.merge(val_data, df, on=['address', 'name'], how='inner')"
   ]
  },
  {
   "cell_type": "code",
   "execution_count": 41,
   "metadata": {},
   "outputs": [
    {
     "data": {
      "text/html": [
       "<div>\n",
       "<style scoped>\n",
       "    .dataframe tbody tr th:only-of-type {\n",
       "        vertical-align: middle;\n",
       "    }\n",
       "\n",
       "    .dataframe tbody tr th {\n",
       "        vertical-align: top;\n",
       "    }\n",
       "\n",
       "    .dataframe thead th {\n",
       "        text-align: right;\n",
       "    }\n",
       "</style>\n",
       "<table border=\"1\" class=\"dataframe\">\n",
       "  <thead>\n",
       "    <tr style=\"text-align: right;\">\n",
       "      <th></th>\n",
       "      <th>text</th>\n",
       "      <th>address</th>\n",
       "      <th>name</th>\n",
       "      <th>relevance</th>\n",
       "      <th>summarized</th>\n",
       "      <th>sufficiency</th>\n",
       "      <th>classification</th>\n",
       "      <th>additional_info</th>\n",
       "      <th>subject_of_clarification</th>\n",
       "      <th>search_query</th>\n",
       "      <th>agent_cls</th>\n",
       "    </tr>\n",
       "  </thead>\n",
       "  <tbody>\n",
       "    <tr>\n",
       "      <th>0</th>\n",
       "      <td>макароны из фундучной муки</td>\n",
       "      <td>Смоленск, улица Кутузова, 54</td>\n",
       "      <td>Metro; Metro Cash &amp; Carry; Metro Cash &amp;amp; Ca...</td>\n",
       "      <td>0</td>\n",
       "      <td>Продуктовый гипермаркет ; Продуктовый гипермар...</td>\n",
       "      <td>[НЕДОСТАТОЧНО: не указано, есть ли в ассортиме...</td>\n",
       "      <td>irrelevant</td>\n",
       "      <td>Ответ Tavily: Metro Cash &amp; Carry offers a wide...</td>\n",
       "      <td>не указано, есть ли в ассортименте макароны из...</td>\n",
       "      <td>ассортимент макарон Metro Cash &amp; Carry</td>\n",
       "      <td>0</td>\n",
       "    </tr>\n",
       "    <tr>\n",
       "      <th>1</th>\n",
       "      <td>рейтинг суши баров</td>\n",
       "      <td>Москва, Новодмитровская улица, 1с6</td>\n",
       "      <td>Такеши; Takeshi; Суши бар Takeshi; Суши-бар Та...</td>\n",
       "      <td>1</td>\n",
       "      <td>Суши-бар ; Суши-бар «Такеши» предлагает широки...</td>\n",
       "      <td>[ДОСТАТОЧНО]</td>\n",
       "      <td>relevant</td>\n",
       "      <td></td>\n",
       "      <td></td>\n",
       "      <td></td>\n",
       "      <td>1</td>\n",
       "    </tr>\n",
       "    <tr>\n",
       "      <th>2</th>\n",
       "      <td>Доставка цветов и букетов</td>\n",
       "      <td>Краснодар, Восточно-Кругликовская улица, 72</td>\n",
       "      <td>101 Роза; 101 Rose</td>\n",
       "      <td>1</td>\n",
       "      <td>Доставка цветов и букетов ; Магазин «101 Роза»...</td>\n",
       "      <td>[ДОСТАТОЧНО]</td>\n",
       "      <td>relevant</td>\n",
       "      <td></td>\n",
       "      <td></td>\n",
       "      <td></td>\n",
       "      <td>1</td>\n",
       "    </tr>\n",
       "    <tr>\n",
       "      <th>3</th>\n",
       "      <td>итальянский ресторанчики</td>\n",
       "      <td>Москва, Театральный проезд, 5, стр. 1</td>\n",
       "      <td>Osteria Mario; Osteria Mario Остерия Марио в Ц...</td>\n",
       "      <td>1</td>\n",
       "      <td>Ресторан ; Osteria Mario предлагает широкий вы...</td>\n",
       "      <td>[ДОСТАТОЧНО]</td>\n",
       "      <td>relevant</td>\n",
       "      <td></td>\n",
       "      <td></td>\n",
       "      <td></td>\n",
       "      <td>1</td>\n",
       "    </tr>\n",
       "    <tr>\n",
       "      <th>4</th>\n",
       "      <td>судак гостиницы</td>\n",
       "      <td>Республика Крым, Судак, улица Сары-Кая, 5</td>\n",
       "      <td>Qirim; Гостевой дом Qirim; Крым; Gostevoi dom ...</td>\n",
       "      <td>0</td>\n",
       "      <td>Гостиница ; Предлагает размещение в гостинице ...</td>\n",
       "      <td>[ДОСТАТОЧНО]</td>\n",
       "      <td>relevant</td>\n",
       "      <td></td>\n",
       "      <td></td>\n",
       "      <td></td>\n",
       "      <td>1</td>\n",
       "    </tr>\n",
       "    <tr>\n",
       "      <th>...</th>\n",
       "      <td>...</td>\n",
       "      <td>...</td>\n",
       "      <td>...</td>\n",
       "      <td>...</td>\n",
       "      <td>...</td>\n",
       "      <td>...</td>\n",
       "      <td>...</td>\n",
       "      <td>...</td>\n",
       "      <td>...</td>\n",
       "      <td>...</td>\n",
       "      <td>...</td>\n",
       "    </tr>\n",
       "    <tr>\n",
       "      <th>95</th>\n",
       "      <td>Справка оружие</td>\n",
       "      <td>Москва, Шипиловский проезд, 43, корп. 1</td>\n",
       "      <td>Наш Доктор; Nash doktor; Наш доктор</td>\n",
       "      <td>0</td>\n",
       "      <td>Медицинская комиссия ; Медицинская комиссия, с...</td>\n",
       "      <td>[НЕДОСТАТОЧНО: отсутствует информация о выдаче...</td>\n",
       "      <td>relevant</td>\n",
       "      <td>Ответ Tavily: Наш Доктор в Москве предоставляе...</td>\n",
       "      <td>отсутствует информация о выдаче справок на оружие</td>\n",
       "      <td>Наш Доктор Москва справки на оружие</td>\n",
       "      <td>1</td>\n",
       "    </tr>\n",
       "    <tr>\n",
       "      <th>96</th>\n",
       "      <td>кафе уютные</td>\n",
       "      <td>Москва, Производственная улица, 1А, стр. 1</td>\n",
       "      <td>Самарканд; Samarkand</td>\n",
       "      <td>1</td>\n",
       "      <td>Кафе ; ; ; Организация занимается подачей блюд...</td>\n",
       "      <td>[ДОСТАТОЧНО]</td>\n",
       "      <td>relevant</td>\n",
       "      <td></td>\n",
       "      <td></td>\n",
       "      <td></td>\n",
       "      <td>1</td>\n",
       "    </tr>\n",
       "    <tr>\n",
       "      <th>97</th>\n",
       "      <td>самый близкий минимаркет</td>\n",
       "      <td>Санкт-Петербург, Смоленская улица, 3-5</td>\n",
       "      <td>Минимаркет; Minimarket; Мини-маркет</td>\n",
       "      <td>1</td>\n",
       "      <td>Супермаркет ; ; ; Организация занимается розни...</td>\n",
       "      <td>[ДОСТАТОЧНО]</td>\n",
       "      <td>relevant</td>\n",
       "      <td></td>\n",
       "      <td></td>\n",
       "      <td></td>\n",
       "      <td>1</td>\n",
       "    </tr>\n",
       "    <tr>\n",
       "      <th>98</th>\n",
       "      <td>кафе грузинской кухни в москве</td>\n",
       "      <td>Москва, улица Маросейка, 6-8с1</td>\n",
       "      <td>Натахтари; Natakhtari; Natahtari</td>\n",
       "      <td>0</td>\n",
       "      <td>Кафе ; Кафе «Натахтари» предлагает разнообразн...</td>\n",
       "      <td>[ДОСТАТОЧНО]</td>\n",
       "      <td>relevant</td>\n",
       "      <td></td>\n",
       "      <td></td>\n",
       "      <td></td>\n",
       "      <td>1</td>\n",
       "    </tr>\n",
       "    <tr>\n",
       "      <th>99</th>\n",
       "      <td>где сделать ээг</td>\n",
       "      <td>Москва, улица Остоженка, 25</td>\n",
       "      <td>Hair &amp; Skin; Hair&amp;Skin; Гинекологический центр...</td>\n",
       "      <td>0</td>\n",
       "      <td>Косметология ; Hair &amp; Skin предлагает широкий ...</td>\n",
       "      <td>[НЕДОСТАТОЧНО: отсутствует информация о предос...</td>\n",
       "      <td>irrelevant</td>\n",
       "      <td>Ответ Tavily: Hair &amp; Skin clinic is located in...</td>\n",
       "      <td>отсутствует информация о предоставлении услуги...</td>\n",
       "      <td>организация Hair &amp; Skin Москва Остоженка 25 ЭЭГ</td>\n",
       "      <td>0</td>\n",
       "    </tr>\n",
       "  </tbody>\n",
       "</table>\n",
       "<p>100 rows × 11 columns</p>\n",
       "</div>"
      ],
      "text/plain": [
       "                              text  \\\n",
       "0       макароны из фундучной муки   \n",
       "1               рейтинг суши баров   \n",
       "2        Доставка цветов и букетов   \n",
       "3         итальянский ресторанчики   \n",
       "4                  судак гостиницы   \n",
       "..                             ...   \n",
       "95                  Справка оружие   \n",
       "96                     кафе уютные   \n",
       "97        самый близкий минимаркет   \n",
       "98  кафе грузинской кухни в москве   \n",
       "99                 где сделать ээг   \n",
       "\n",
       "                                        address  \\\n",
       "0                  Смоленск, улица Кутузова, 54   \n",
       "1            Москва, Новодмитровская улица, 1с6   \n",
       "2   Краснодар, Восточно-Кругликовская улица, 72   \n",
       "3         Москва, Театральный проезд, 5, стр. 1   \n",
       "4     Республика Крым, Судак, улица Сары-Кая, 5   \n",
       "..                                          ...   \n",
       "95      Москва, Шипиловский проезд, 43, корп. 1   \n",
       "96   Москва, Производственная улица, 1А, стр. 1   \n",
       "97       Санкт-Петербург, Смоленская улица, 3-5   \n",
       "98               Москва, улица Маросейка, 6-8с1   \n",
       "99                  Москва, улица Остоженка, 25   \n",
       "\n",
       "                                                 name  relevance  \\\n",
       "0   Metro; Metro Cash & Carry; Metro Cash &amp; Ca...          0   \n",
       "1   Такеши; Takeshi; Суши бар Takeshi; Суши-бар Та...          1   \n",
       "2                                  101 Роза; 101 Rose          1   \n",
       "3   Osteria Mario; Osteria Mario Остерия Марио в Ц...          1   \n",
       "4   Qirim; Гостевой дом Qirim; Крым; Gostevoi dom ...          0   \n",
       "..                                                ...        ...   \n",
       "95                Наш Доктор; Nash doktor; Наш доктор          0   \n",
       "96                               Самарканд; Samarkand          1   \n",
       "97                Минимаркет; Minimarket; Мини-маркет          1   \n",
       "98                   Натахтари; Natakhtari; Natahtari          0   \n",
       "99  Hair & Skin; Hair&Skin; Гинекологический центр...          0   \n",
       "\n",
       "                                           summarized  \\\n",
       "0   Продуктовый гипермаркет ; Продуктовый гипермар...   \n",
       "1   Суши-бар ; Суши-бар «Такеши» предлагает широки...   \n",
       "2   Доставка цветов и букетов ; Магазин «101 Роза»...   \n",
       "3   Ресторан ; Osteria Mario предлагает широкий вы...   \n",
       "4   Гостиница ; Предлагает размещение в гостинице ...   \n",
       "..                                                ...   \n",
       "95  Медицинская комиссия ; Медицинская комиссия, с...   \n",
       "96  Кафе ; ; ; Организация занимается подачей блюд...   \n",
       "97  Супермаркет ; ; ; Организация занимается розни...   \n",
       "98  Кафе ; Кафе «Натахтари» предлагает разнообразн...   \n",
       "99  Косметология ; Hair & Skin предлагает широкий ...   \n",
       "\n",
       "                                          sufficiency classification  \\\n",
       "0   [НЕДОСТАТОЧНО: не указано, есть ли в ассортиме...     irrelevant   \n",
       "1                                        [ДОСТАТОЧНО]       relevant   \n",
       "2                                        [ДОСТАТОЧНО]       relevant   \n",
       "3                                        [ДОСТАТОЧНО]       relevant   \n",
       "4                                        [ДОСТАТОЧНО]       relevant   \n",
       "..                                                ...            ...   \n",
       "95  [НЕДОСТАТОЧНО: отсутствует информация о выдаче...       relevant   \n",
       "96                                       [ДОСТАТОЧНО]       relevant   \n",
       "97                                       [ДОСТАТОЧНО]       relevant   \n",
       "98                                       [ДОСТАТОЧНО]       relevant   \n",
       "99  [НЕДОСТАТОЧНО: отсутствует информация о предос...     irrelevant   \n",
       "\n",
       "                                      additional_info  \\\n",
       "0   Ответ Tavily: Metro Cash & Carry offers a wide...   \n",
       "1                                                       \n",
       "2                                                       \n",
       "3                                                       \n",
       "4                                                       \n",
       "..                                                ...   \n",
       "95  Ответ Tavily: Наш Доктор в Москве предоставляе...   \n",
       "96                                                      \n",
       "97                                                      \n",
       "98                                                      \n",
       "99  Ответ Tavily: Hair & Skin clinic is located in...   \n",
       "\n",
       "                             subject_of_clarification  \\\n",
       "0   не указано, есть ли в ассортименте макароны из...   \n",
       "1                                                       \n",
       "2                                                       \n",
       "3                                                       \n",
       "4                                                       \n",
       "..                                                ...   \n",
       "95  отсутствует информация о выдаче справок на оружие   \n",
       "96                                                      \n",
       "97                                                      \n",
       "98                                                      \n",
       "99  отсутствует информация о предоставлении услуги...   \n",
       "\n",
       "                                       search_query  agent_cls  \n",
       "0            ассортимент макарон Metro Cash & Carry          0  \n",
       "1                                                            1  \n",
       "2                                                            1  \n",
       "3                                                            1  \n",
       "4                                                            1  \n",
       "..                                              ...        ...  \n",
       "95              Наш Доктор Москва справки на оружие          1  \n",
       "96                                                           1  \n",
       "97                                                           1  \n",
       "98                                                           1  \n",
       "99  организация Hair & Skin Москва Остоженка 25 ЭЭГ          0  \n",
       "\n",
       "[100 rows x 11 columns]"
      ]
     },
     "execution_count": 41,
     "metadata": {},
     "output_type": "execute_result"
    }
   ],
   "source": [
    "merged_df"
   ]
  },
  {
   "cell_type": "code",
   "execution_count": 42,
   "metadata": {},
   "outputs": [],
   "source": [
    "merged_df.to_excel('result_some_agent.xlsx')"
   ]
  },
  {
   "cell_type": "markdown",
   "metadata": {},
   "source": [
    "accuracy в данном случае не смотрим, т.к. это валидационный набор данных (без хорошей разметки). тут более интересно оценить сами запросы и в каких случаях они делаются."
   ]
  },
  {
   "cell_type": "markdown",
   "metadata": {},
   "source": [
    "**Выводы**"
   ]
  },
  {
   "cell_type": "markdown",
   "metadata": {},
   "source": [
    "Агент может формировать запросы и пользоваться поиском.  \n",
    "Вместе с тем, как показывает данный валидационный набор (так и другие val_data) данная модель LLM (deepseek-chat-v3-0324) не всегда верно формирует запросы, а также (по опыту других данных) не всегда верно следует инструкции из промпта. Частая ошибка, в том, что иногда по профилю организации ясно, что она не соответствует запросу, но, агент все равно делает уточнение. Тем самым возникают лишние и иногда некорректные запросы с аналогичным ответом от Tavily.  \n",
    "Для данной модели нужны более четкие (но не избыточные) инструкции в промпте. Это будет реализовано в следующих версиях агента.  \n",
    "Также в ходе экспериментов, стало ясно, что огромное значение имеет и сама модель LLM. Для подобного рода задач следует выбирать модели с высокими способностями понимать и следовать инструкциям. Этот фактор также будет учтен в следующих версиях агента."
   ]
  },
  {
   "cell_type": "code",
   "execution_count": null,
   "metadata": {},
   "outputs": [],
   "source": []
  },
  {
   "cell_type": "code",
   "execution_count": null,
   "metadata": {},
   "outputs": [],
   "source": []
  }
 ],
 "metadata": {
  "colab": {
   "provenance": []
  },
  "kernelspec": {
   "display_name": "Python 3 (ipykernel)",
   "language": "python",
   "name": "python3"
  },
  "language_info": {
   "codemirror_mode": {
    "name": "ipython",
    "version": 3
   },
   "file_extension": ".py",
   "mimetype": "text/x-python",
   "name": "python",
   "nbconvert_exporter": "python",
   "pygments_lexer": "ipython3",
   "version": "3.9.10"
  }
 },
 "nbformat": 4,
 "nbformat_minor": 4
}
