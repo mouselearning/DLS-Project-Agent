{
 "cells": [
  {
   "cell_type": "code",
   "execution_count": 1,
   "metadata": {},
   "outputs": [],
   "source": [
    "import math\n",
    "import random\n",
    "import pandas as pd\n",
    "import numpy as np\n",
    "import os\n",
    "\n",
    "from typing import List, TypedDict\n",
    "from dotenv import load_dotenv\n",
    "from tqdm.notebook import tqdm\n",
    "from openai import OpenAI"
   ]
  },
  {
   "cell_type": "code",
   "execution_count": 2,
   "metadata": {},
   "outputs": [],
   "source": [
    "seed = 42\n",
    "random.seed(seed)\n",
    "np.random.seed(seed)"
   ]
  },
  {
   "cell_type": "markdown",
   "metadata": {
    "id": "XSXK6Hu3RoN0"
   },
   "source": [
    "## Загрузка данных"
   ]
  },
  {
   "cell_type": "code",
   "execution_count": null,
   "metadata": {},
   "outputs": [],
   "source": [
    "data = pd.read_json(\"data_final_for_dls_new.jsonl\", lines=True)\n",
    "data.columns = ['text', 'address', 'name', 'norm_name_ru', 'permalink', 'prices_summarized', 'relevance', 'reviews_summarized', 'relevance_new']\n",
    "train_data = data[570:]\n",
    "eval_data = data[:570]\n",
    "train_data = train_data[train_data[\"relevance\"] != 0.1].reset_index(drop=True)\n",
    "eval_data = eval_data[eval_data[\"relevance\"] != 0.1].reset_index(drop=True)"
   ]
  },
  {
   "cell_type": "markdown",
   "metadata": {},
   "source": [
    "Проводилась небольшая подготовка данных. В колонку summarized объединялись данные из 'norm_name_ru', 'prices_summarized', 'reviews_summarized'. \"Лишние\" колонки затем удалялись, для более удобного восприятия и отображения датасета."
   ]
  },
  {
   "cell_type": "code",
   "execution_count": null,
   "metadata": {},
   "outputs": [],
   "source": [
    "eval_data['reviews_summarized'] = eval_data['reviews_summarized'].fillna(\";\")\n",
    "eval_data['prices_summarized'] = eval_data['prices_summarized'].fillna(\";\")\n",
    "eval_data['reviews_summarized'] = eval_data['reviews_summarized'].str.split(r'[\\n|]').str[0].str.strip()\n",
    "eval_data['summarized'] = (eval_data['norm_name_ru'] + ' ; ' + eval_data['prices_summarized'] + ' ; ' + eval_data['reviews_summarized'])\n",
    "eval_data.drop(columns=['norm_name_ru', 'prices_summarized', 'reviews_summarized', 'permalink'], inplace=True)"
   ]
  },
  {
   "cell_type": "code",
   "execution_count": null,
   "metadata": {},
   "outputs": [],
   "source": [
    "# eval_data.to_excel('eval_data_summarized.xlsx')"
   ]
  },
  {
   "cell_type": "code",
   "execution_count": 3,
   "metadata": {
    "id": "fxnlLY9UPnjd"
   },
   "outputs": [],
   "source": [
    "eval_data = pd.read_excel('eval_data_summarized.xlsx')\n",
    "eval_data.drop('Unnamed: 0', axis=1, inplace=True)"
   ]
  },
  {
   "cell_type": "code",
   "execution_count": 5,
   "metadata": {},
   "outputs": [
    {
     "data": {
      "text/html": [
       "<div>\n",
       "<style scoped>\n",
       "    .dataframe tbody tr th:only-of-type {\n",
       "        vertical-align: middle;\n",
       "    }\n",
       "\n",
       "    .dataframe tbody tr th {\n",
       "        vertical-align: top;\n",
       "    }\n",
       "\n",
       "    .dataframe thead th {\n",
       "        text-align: right;\n",
       "    }\n",
       "</style>\n",
       "<table border=\"1\" class=\"dataframe\">\n",
       "  <thead>\n",
       "    <tr style=\"text-align: right;\">\n",
       "      <th></th>\n",
       "      <th>text</th>\n",
       "      <th>address</th>\n",
       "      <th>name</th>\n",
       "      <th>relevance</th>\n",
       "      <th>relevance_new</th>\n",
       "      <th>summarized</th>\n",
       "    </tr>\n",
       "  </thead>\n",
       "  <tbody>\n",
       "    <tr>\n",
       "      <th>0</th>\n",
       "      <td>сигары</td>\n",
       "      <td>Москва, Дубравная улица, 34/29</td>\n",
       "      <td>Tabaccos; Магазин Tabaccos; Табаккос</td>\n",
       "      <td>1</td>\n",
       "      <td>1</td>\n",
       "      <td>Магазин табака и курительных принадлежностей ;...</td>\n",
       "    </tr>\n",
       "    <tr>\n",
       "      <th>1</th>\n",
       "      <td>кальянная спб мероприятия</td>\n",
       "      <td>Санкт-Петербург, Большой проспект Петроградско...</td>\n",
       "      <td>PioNero; Pionero; Пицца Паста бар; Pio Nero; P...</td>\n",
       "      <td>0</td>\n",
       "      <td>0</td>\n",
       "      <td>Кафе ; PioNero предлагает разнообразные блюда ...</td>\n",
       "    </tr>\n",
       "  </tbody>\n",
       "</table>\n",
       "</div>"
      ],
      "text/plain": [
       "                        text  \\\n",
       "0                     сигары   \n",
       "1  кальянная спб мероприятия   \n",
       "\n",
       "                                             address  \\\n",
       "0                     Москва, Дубравная улица, 34/29   \n",
       "1  Санкт-Петербург, Большой проспект Петроградско...   \n",
       "\n",
       "                                                name  relevance  \\\n",
       "0               Tabaccos; Магазин Tabaccos; Табаккос          1   \n",
       "1  PioNero; Pionero; Пицца Паста бар; Pio Nero; P...          0   \n",
       "\n",
       "   relevance_new                                         summarized  \n",
       "0              1  Магазин табака и курительных принадлежностей ;...  \n",
       "1              0  Кафе ; PioNero предлагает разнообразные блюда ...  "
      ]
     },
     "execution_count": 5,
     "metadata": {},
     "output_type": "execute_result"
    }
   ],
   "source": [
    "eval_data.head(2)"
   ]
  },
  {
   "cell_type": "code",
   "execution_count": 6,
   "metadata": {},
   "outputs": [
    {
     "data": {
      "text/plain": [
       "(500, 6)"
      ]
     },
     "execution_count": 6,
     "metadata": {},
     "output_type": "execute_result"
    }
   ],
   "source": [
    "eval_data.shape"
   ]
  },
  {
   "cell_type": "markdown",
   "metadata": {},
   "source": [
    "### gpt-4.1-mini - финальный промпт для классификации"
   ]
  },
  {
   "cell_type": "code",
   "execution_count": 7,
   "metadata": {},
   "outputs": [],
   "source": [
    "# Вызываем модель и передаем ей инструменты\n",
    "load_dotenv()\n",
    "client = OpenAI(\n",
    "    base_url=\"https://api.ai-mediator.ru/v1\",\n",
    "    api_key=os.getenv(\"OPENAI_API_KEY\"),\n",
    ")"
   ]
  },
  {
   "cell_type": "code",
   "execution_count": 8,
   "metadata": {},
   "outputs": [],
   "source": [
    "# Определение типов для структуры данных\n",
    "class OrganizationData(TypedDict):\n",
    "    user_query: str\n",
    "    organization_address: str\n",
    "    organization_name: str\n",
    "    summary: str\n",
    "    classification: str"
   ]
  },
  {
   "cell_type": "markdown",
   "metadata": {},
   "source": [
    "Тут представлена версия промпта, доработанная в ходе построения агента. Это финальная версия для классификационного этапа."
   ]
  },
  {
   "cell_type": "code",
   "execution_count": 9,
   "metadata": {},
   "outputs": [],
   "source": [
    "# Системный промпт для классификации\n",
    "\n",
    "SYSTEM_PROMPT = \"\"\"Ты помощник для классификации организаций по релевантности пользовательскому запросу.\n",
    "Оцени, подходит ли организация к данному запросу. Отвечай только \"relevant\" или \"irrelevant\".\n",
    "\n",
    "**Правила:**\n",
    "1. Сначала определи, есть ли в запросе географические указания (город, район, адрес). Если нет - пункт 2 не применяй.\n",
    "2. Учитывай географическую принадлежность к городу (ТОЛЬКО если в запросе явно указан город)\n",
    "3. Учитывай совпадение по ключевым словам (\"налоговая\", \"больница\", \"ресторан\" и т.д.):\n",
    "   - анализируй тип деятельности организации и соответствие запросу — даже если совпадений по словам немного, \n",
    "   но смысловой контекст пересекается, отмечай как relevant.\n",
    "4. Учитывай совпадение по номеру (если цифры есть в запросе)\n",
    "5. Оцени другие возможные критерии, исходя из которых можно сделать вывод \"relevant\" или \"irrelevant\".\n",
    "\n",
    "**Примеры:**\n",
    "Запрос \"налоговая 5007\" → проверяй только ключевые слова и номер\n",
    "Запрос \"больница в Королёве\" → проверяй ключевые слова и геолокацию\n",
    "\"\"\""
   ]
  },
  {
   "cell_type": "markdown",
   "metadata": {},
   "source": [
    "**в `classify_organization` прописать модель**"
   ]
  },
  {
   "cell_type": "code",
   "execution_count": 10,
   "metadata": {},
   "outputs": [],
   "source": [
    "def classify_organization(row: pd.Series) -> str:\n",
    "    \"\"\"Определяет релевантность организации запросу пользователя\"\"\"\n",
    "    \n",
    "    # Формируем пользовательский промпт\n",
    "    user_prompt = f\"\"\"\n",
    "    ЗАПРОС ПОЛЬЗОВАТЕЛЯ: {row['text']}\n",
    "    \n",
    "    ИНФОРМАЦИЯ ОБ ОРГАНИЗАЦИИ:\n",
    "    - Адрес: {row['address']}\n",
    "    - Название: {row['name']}\n",
    "    - Сводка: {row['summarized']}\n",
    "    \"\"\"\n",
    "    \n",
    "    # Вызов модели\n",
    "    response = client.chat.completions.create(\n",
    "        model=\"gpt-4.1-mini\",\n",
    "        messages=[\n",
    "            {\"role\": \"system\", \"content\": SYSTEM_PROMPT},\n",
    "            {\"role\": \"user\", \"content\": user_prompt}\n",
    "        ],\n",
    "        temperature=0,\n",
    "    )\n",
    "    \n",
    "    # Получаем и возвращаем классификацию\n",
    "    return response.choices[0].message.content.strip().lower()"
   ]
  },
  {
   "cell_type": "code",
   "execution_count": 11,
   "metadata": {},
   "outputs": [],
   "source": [
    "def process_dataframe(df: pd.DataFrame) -> pd.DataFrame:\n",
    "    \"\"\"Обрабатывает DataFrame с данными организаций\"\"\"\n",
    "    \n",
    "    # Создаем копию DataFrame для результатов\n",
    "    result_df = df.copy()\n",
    "    \n",
    "    # Добавляем столбец с классификацией\n",
    "    tqdm.pandas(desc=\"Classifying organizations\")\n",
    "    result_df['llm_rel'] = df.progress_apply(classify_organization, axis=1)\n",
    "    \n",
    "    return result_df"
   ]
  },
  {
   "cell_type": "code",
   "execution_count": 12,
   "metadata": {},
   "outputs": [
    {
     "data": {
      "application/vnd.jupyter.widget-view+json": {
       "model_id": "2ac8b8edfee34bd4b903f768bf674108",
       "version_major": 2,
       "version_minor": 0
      },
      "text/plain": [
       "Classifying organizations:   0%|          | 0/500 [00:00<?, ?it/s]"
      ]
     },
     "metadata": {},
     "output_type": "display_data"
    }
   ],
   "source": [
    "# Обрабатываем данные\n",
    "classified_data = process_dataframe(eval_data)"
   ]
  },
  {
   "cell_type": "code",
   "execution_count": 13,
   "metadata": {},
   "outputs": [],
   "source": [
    "classified_data['llm_rel'] = np.where(classified_data['llm_rel'].str.contains('irrelevant'), 0, 1)"
   ]
  },
  {
   "cell_type": "code",
   "execution_count": 14,
   "metadata": {},
   "outputs": [
    {
     "data": {
      "text/html": [
       "<div>\n",
       "<style scoped>\n",
       "    .dataframe tbody tr th:only-of-type {\n",
       "        vertical-align: middle;\n",
       "    }\n",
       "\n",
       "    .dataframe tbody tr th {\n",
       "        vertical-align: top;\n",
       "    }\n",
       "\n",
       "    .dataframe thead th {\n",
       "        text-align: right;\n",
       "    }\n",
       "</style>\n",
       "<table border=\"1\" class=\"dataframe\">\n",
       "  <thead>\n",
       "    <tr style=\"text-align: right;\">\n",
       "      <th></th>\n",
       "      <th>text</th>\n",
       "      <th>address</th>\n",
       "      <th>name</th>\n",
       "      <th>relevance</th>\n",
       "      <th>relevance_new</th>\n",
       "      <th>summarized</th>\n",
       "      <th>llm_rel</th>\n",
       "    </tr>\n",
       "  </thead>\n",
       "  <tbody>\n",
       "    <tr>\n",
       "      <th>0</th>\n",
       "      <td>сигары</td>\n",
       "      <td>Москва, Дубравная улица, 34/29</td>\n",
       "      <td>Tabaccos; Магазин Tabaccos; Табаккос</td>\n",
       "      <td>1</td>\n",
       "      <td>1</td>\n",
       "      <td>Магазин табака и курительных принадлежностей ;...</td>\n",
       "      <td>1</td>\n",
       "    </tr>\n",
       "    <tr>\n",
       "      <th>1</th>\n",
       "      <td>кальянная спб мероприятия</td>\n",
       "      <td>Санкт-Петербург, Большой проспект Петроградско...</td>\n",
       "      <td>PioNero; Pionero; Пицца Паста бар; Pio Nero; P...</td>\n",
       "      <td>0</td>\n",
       "      <td>0</td>\n",
       "      <td>Кафе ; PioNero предлагает разнообразные блюда ...</td>\n",
       "      <td>0</td>\n",
       "    </tr>\n",
       "    <tr>\n",
       "      <th>2</th>\n",
       "      <td>Эпиляция</td>\n",
       "      <td>Московская область, Одинцово, улица Маршала Жу...</td>\n",
       "      <td>MaxiLife; Центр красоты и здоровья MaxiLife; Ц...</td>\n",
       "      <td>1</td>\n",
       "      <td>1</td>\n",
       "      <td>Стоматологическая клиника ; Стоматологическая ...</td>\n",
       "      <td>1</td>\n",
       "    </tr>\n",
       "    <tr>\n",
       "      <th>3</th>\n",
       "      <td>стиральных машин</td>\n",
       "      <td>Москва, улица Обручева, 34/63</td>\n",
       "      <td>М.Видео; M Video; M. Видео; M.Видео; Mvideo; М...</td>\n",
       "      <td>1</td>\n",
       "      <td>1</td>\n",
       "      <td>Магазин бытовой техники ; М.Видео предлагает ш...</td>\n",
       "      <td>1</td>\n",
       "    </tr>\n",
       "    <tr>\n",
       "      <th>4</th>\n",
       "      <td>сеть быстрого питания</td>\n",
       "      <td>Санкт-Петербург, 1-я Красноармейская улица, 15</td>\n",
       "      <td>Rostic's; KFC; Ресторан быстрого питания KFC</td>\n",
       "      <td>1</td>\n",
       "      <td>1</td>\n",
       "      <td>Быстрое питание ; Rostic's предлагает различны...</td>\n",
       "      <td>1</td>\n",
       "    </tr>\n",
       "    <tr>\n",
       "      <th>...</th>\n",
       "      <td>...</td>\n",
       "      <td>...</td>\n",
       "      <td>...</td>\n",
       "      <td>...</td>\n",
       "      <td>...</td>\n",
       "      <td>...</td>\n",
       "      <td>...</td>\n",
       "    </tr>\n",
       "    <tr>\n",
       "      <th>495</th>\n",
       "      <td>наращивание ресниц</td>\n",
       "      <td>Саратов, улица имени А.С. Пушкина, 1</td>\n",
       "      <td>Сила; Sila; Beauty brow; Студия бровей Beauty ...</td>\n",
       "      <td>1</td>\n",
       "      <td>1</td>\n",
       "      <td>Салон красоты ; Салон красоты «Сила» предлагае...</td>\n",
       "      <td>1</td>\n",
       "    </tr>\n",
       "    <tr>\n",
       "      <th>496</th>\n",
       "      <td>игры</td>\n",
       "      <td>Москва, Щёлковское шоссе, 79, корп. 1</td>\n",
       "      <td>YouPlay; YouPlay КиберКлуб</td>\n",
       "      <td>0</td>\n",
       "      <td>0</td>\n",
       "      <td>Компьютерный клуб ; YouPlay КиберКлуб предлага...</td>\n",
       "      <td>1</td>\n",
       "    </tr>\n",
       "    <tr>\n",
       "      <th>497</th>\n",
       "      <td>домашний интернет в курске что подключить отзы...</td>\n",
       "      <td>Курск, Садовая улица, 5</td>\n",
       "      <td>Цифровой канал; Digital Channel; DChannel; ЦК;...</td>\n",
       "      <td>0</td>\n",
       "      <td>0</td>\n",
       "      <td>Телекоммуникационная компания ; ; ; ;</td>\n",
       "      <td>1</td>\n",
       "    </tr>\n",
       "    <tr>\n",
       "      <th>498</th>\n",
       "      <td>гостиница волгодонск сауна номер телефона</td>\n",
       "      <td>Ростовская область, городской округ Волгодонск...</td>\n",
       "      <td>Поплавок; Poplavok</td>\n",
       "      <td>0</td>\n",
       "      <td>0</td>\n",
       "      <td>База , дом отдыха ; Предлагает размещение в ра...</td>\n",
       "      <td>1</td>\n",
       "    </tr>\n",
       "    <tr>\n",
       "      <th>499</th>\n",
       "      <td>футбол для подростков в нижнем новгороде</td>\n",
       "      <td>Нижний Новгород, Ленинский район, микрорайон М...</td>\n",
       "      <td>АСК</td>\n",
       "      <td>0</td>\n",
       "      <td>0</td>\n",
       "      <td>Спортивное объединение ; ; ; Организация заним...</td>\n",
       "      <td>1</td>\n",
       "    </tr>\n",
       "  </tbody>\n",
       "</table>\n",
       "<p>500 rows × 7 columns</p>\n",
       "</div>"
      ],
      "text/plain": [
       "                                                  text  \\\n",
       "0                                               сигары   \n",
       "1                            кальянная спб мероприятия   \n",
       "2                                             Эпиляция   \n",
       "3                                     стиральных машин   \n",
       "4                                сеть быстрого питания   \n",
       "..                                                 ...   \n",
       "495                                 наращивание ресниц   \n",
       "496                                               игры   \n",
       "497  домашний интернет в курске что подключить отзы...   \n",
       "498          гостиница волгодонск сауна номер телефона   \n",
       "499           футбол для подростков в нижнем новгороде   \n",
       "\n",
       "                                               address  \\\n",
       "0                       Москва, Дубравная улица, 34/29   \n",
       "1    Санкт-Петербург, Большой проспект Петроградско...   \n",
       "2    Московская область, Одинцово, улица Маршала Жу...   \n",
       "3                        Москва, улица Обручева, 34/63   \n",
       "4       Санкт-Петербург, 1-я Красноармейская улица, 15   \n",
       "..                                                 ...   \n",
       "495               Саратов, улица имени А.С. Пушкина, 1   \n",
       "496              Москва, Щёлковское шоссе, 79, корп. 1   \n",
       "497                            Курск, Садовая улица, 5   \n",
       "498  Ростовская область, городской округ Волгодонск...   \n",
       "499  Нижний Новгород, Ленинский район, микрорайон М...   \n",
       "\n",
       "                                                  name  relevance  \\\n",
       "0                 Tabaccos; Магазин Tabaccos; Табаккос          1   \n",
       "1    PioNero; Pionero; Пицца Паста бар; Pio Nero; P...          0   \n",
       "2    MaxiLife; Центр красоты и здоровья MaxiLife; Ц...          1   \n",
       "3    М.Видео; M Video; M. Видео; M.Видео; Mvideo; М...          1   \n",
       "4         Rostic's; KFC; Ресторан быстрого питания KFC          1   \n",
       "..                                                 ...        ...   \n",
       "495  Сила; Sila; Beauty brow; Студия бровей Beauty ...          1   \n",
       "496                         YouPlay; YouPlay КиберКлуб          0   \n",
       "497  Цифровой канал; Digital Channel; DChannel; ЦК;...          0   \n",
       "498                                 Поплавок; Poplavok          0   \n",
       "499                                                АСК          0   \n",
       "\n",
       "     relevance_new                                         summarized  llm_rel  \n",
       "0                1  Магазин табака и курительных принадлежностей ;...        1  \n",
       "1                0  Кафе ; PioNero предлагает разнообразные блюда ...        0  \n",
       "2                1  Стоматологическая клиника ; Стоматологическая ...        1  \n",
       "3                1  Магазин бытовой техники ; М.Видео предлагает ш...        1  \n",
       "4                1  Быстрое питание ; Rostic's предлагает различны...        1  \n",
       "..             ...                                                ...      ...  \n",
       "495              1  Салон красоты ; Салон красоты «Сила» предлагае...        1  \n",
       "496              0  Компьютерный клуб ; YouPlay КиберКлуб предлага...        1  \n",
       "497              0              Телекоммуникационная компания ; ; ; ;        1  \n",
       "498              0  База , дом отдыха ; Предлагает размещение в ра...        1  \n",
       "499              0  Спортивное объединение ; ; ; Организация заним...        1  \n",
       "\n",
       "[500 rows x 7 columns]"
      ]
     },
     "execution_count": 14,
     "metadata": {},
     "output_type": "execute_result"
    }
   ],
   "source": [
    "classified_data"
   ]
  },
  {
   "cell_type": "code",
   "execution_count": 15,
   "metadata": {},
   "outputs": [
    {
     "name": "stdout",
     "output_type": "stream",
     "text": [
      "Accuracy: 0.66\n",
      "Accuracy_new: 0.77\n"
     ]
    }
   ],
   "source": [
    "from sklearn.metrics import accuracy_score\n",
    "\n",
    "accuracy = accuracy_score(classified_data['relevance'], classified_data['llm_rel'])\n",
    "accuracy_new = accuracy_score(classified_data['relevance_new'], classified_data['llm_rel'])\n",
    "print(f\"Accuracy: {accuracy:.2f}\", f\"Accuracy_new: {accuracy_new:.2f}\", sep='\\n')"
   ]
  },
  {
   "cell_type": "code",
   "execution_count": 16,
   "metadata": {},
   "outputs": [],
   "source": [
    "classified_data.to_excel('4_1mini_test_final_prompt.xlsx')"
   ]
  },
  {
   "cell_type": "markdown",
   "metadata": {},
   "source": [
    "**Вывод**  \n",
    "Для данной модели финальная версия классификационного промпта позволила увеличить метрику до 77% на новой разметке. Это лишь на 1% выше относительно стартовой версии промпта.  \n",
    "Это подтверждает более высокую стабильность данной модели LLM."
   ]
  },
  {
   "cell_type": "code",
   "execution_count": null,
   "metadata": {},
   "outputs": [],
   "source": []
  },
  {
   "cell_type": "code",
   "execution_count": null,
   "metadata": {},
   "outputs": [],
   "source": []
  }
 ],
 "metadata": {
  "colab": {
   "provenance": []
  },
  "kernelspec": {
   "display_name": "Python 3 (ipykernel)",
   "language": "python",
   "name": "python3"
  },
  "language_info": {
   "codemirror_mode": {
    "name": "ipython",
    "version": 3
   },
   "file_extension": ".py",
   "mimetype": "text/x-python",
   "name": "python",
   "nbconvert_exporter": "python",
   "pygments_lexer": "ipython3",
   "version": "3.9.10"
  }
 },
 "nbformat": 4,
 "nbformat_minor": 4
}
