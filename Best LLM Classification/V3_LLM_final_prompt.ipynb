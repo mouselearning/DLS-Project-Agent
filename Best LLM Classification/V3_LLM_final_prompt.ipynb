{
 "cells": [
  {
   "cell_type": "code",
   "execution_count": 1,
   "metadata": {},
   "outputs": [],
   "source": [
    "import math\n",
    "import random\n",
    "import pandas as pd\n",
    "import numpy as np\n",
    "import os\n",
    "\n",
    "from typing import List, TypedDict\n",
    "from dotenv import load_dotenv\n",
    "from tqdm.notebook import tqdm\n",
    "from openai import OpenAI"
   ]
  },
  {
   "cell_type": "code",
   "execution_count": 2,
   "metadata": {},
   "outputs": [],
   "source": [
    "seed = 42\n",
    "random.seed(seed)\n",
    "np.random.seed(seed)"
   ]
  },
  {
   "cell_type": "markdown",
   "metadata": {
    "id": "XSXK6Hu3RoN0"
   },
   "source": [
    "## Загрузка данных"
   ]
  },
  {
   "cell_type": "code",
   "execution_count": 3,
   "metadata": {
    "id": "fxnlLY9UPnjd"
   },
   "outputs": [],
   "source": [
    "data = pd.read_json(\"data_final_for_dls_new.jsonl\", lines=True)\n",
    "data.columns = ['text', 'address', 'name', 'norm_name_ru', 'permalink', 'prices_summarized', 'relevance', 'reviews_summarized', 'relevance_new']\n",
    "train_data = data[570:]\n",
    "eval_data = data[:570]\n",
    "train_data = train_data[train_data[\"relevance\"] != 0.1].reset_index(drop=True)\n",
    "eval_data = eval_data[eval_data[\"relevance\"] != 0.1].reset_index(drop=True)"
   ]
  },
  {
   "cell_type": "markdown",
   "metadata": {},
   "source": [
    "Проводилась небольшая подготовка данных. В колонку `summarized` объединялись данные из 'norm_name_ru', 'prices_summarized', 'reviews_summarized'. \"Лишние\" колонки затем удалялись, для более удобного восприятия и отображения датасета."
   ]
  },
  {
   "cell_type": "code",
   "execution_count": 4,
   "metadata": {},
   "outputs": [],
   "source": [
    "eval_data['reviews_summarized'] = eval_data['reviews_summarized'].fillna(\";\")\n",
    "eval_data['prices_summarized'] = eval_data['prices_summarized'].fillna(\";\")\n",
    "eval_data['reviews_summarized'] = eval_data['reviews_summarized'].str.split(r'[\\n|]').str[0].str.strip()\n",
    "eval_data['summarized'] = (eval_data['norm_name_ru'] + ' ; ' + eval_data['prices_summarized'] + ' ; ' + eval_data['reviews_summarized'])\n",
    "eval_data.drop(columns=['norm_name_ru', 'prices_summarized', 'reviews_summarized', 'permalink'], inplace=True)"
   ]
  },
  {
   "cell_type": "code",
   "execution_count": 5,
   "metadata": {},
   "outputs": [],
   "source": [
    "# eval_data.to_excel('eval_data_summarized.xlsx')"
   ]
  },
  {
   "cell_type": "code",
   "execution_count": 6,
   "metadata": {},
   "outputs": [
    {
     "data": {
      "text/html": [
       "<div>\n",
       "<style scoped>\n",
       "    .dataframe tbody tr th:only-of-type {\n",
       "        vertical-align: middle;\n",
       "    }\n",
       "\n",
       "    .dataframe tbody tr th {\n",
       "        vertical-align: top;\n",
       "    }\n",
       "\n",
       "    .dataframe thead th {\n",
       "        text-align: right;\n",
       "    }\n",
       "</style>\n",
       "<table border=\"1\" class=\"dataframe\">\n",
       "  <thead>\n",
       "    <tr style=\"text-align: right;\">\n",
       "      <th></th>\n",
       "      <th>text</th>\n",
       "      <th>address</th>\n",
       "      <th>name</th>\n",
       "      <th>relevance</th>\n",
       "      <th>relevance_new</th>\n",
       "      <th>summarized</th>\n",
       "    </tr>\n",
       "  </thead>\n",
       "  <tbody>\n",
       "    <tr>\n",
       "      <th>0</th>\n",
       "      <td>сигары</td>\n",
       "      <td>Москва, Дубравная улица, 34/29</td>\n",
       "      <td>Tabaccos; Магазин Tabaccos; Табаккос</td>\n",
       "      <td>1.0</td>\n",
       "      <td>1.0</td>\n",
       "      <td>Магазин табака и курительных принадлежностей ;...</td>\n",
       "    </tr>\n",
       "    <tr>\n",
       "      <th>1</th>\n",
       "      <td>кальянная спб мероприятия</td>\n",
       "      <td>Санкт-Петербург, Большой проспект Петроградско...</td>\n",
       "      <td>PioNero; Pionero; Пицца Паста бар; Pio Nero; P...</td>\n",
       "      <td>0.0</td>\n",
       "      <td>0.0</td>\n",
       "      <td>Кафе ; PioNero предлагает разнообразные блюда ...</td>\n",
       "    </tr>\n",
       "  </tbody>\n",
       "</table>\n",
       "</div>"
      ],
      "text/plain": [
       "                        text  \\\n",
       "0                     сигары   \n",
       "1  кальянная спб мероприятия   \n",
       "\n",
       "                                             address  \\\n",
       "0                     Москва, Дубравная улица, 34/29   \n",
       "1  Санкт-Петербург, Большой проспект Петроградско...   \n",
       "\n",
       "                                                name  relevance  \\\n",
       "0               Tabaccos; Магазин Tabaccos; Табаккос        1.0   \n",
       "1  PioNero; Pionero; Пицца Паста бар; Pio Nero; P...        0.0   \n",
       "\n",
       "   relevance_new                                         summarized  \n",
       "0            1.0  Магазин табака и курительных принадлежностей ;...  \n",
       "1            0.0  Кафе ; PioNero предлагает разнообразные блюда ...  "
      ]
     },
     "execution_count": 6,
     "metadata": {},
     "output_type": "execute_result"
    }
   ],
   "source": [
    "eval_data.head(2)"
   ]
  },
  {
   "cell_type": "code",
   "execution_count": 7,
   "metadata": {},
   "outputs": [
    {
     "data": {
      "text/plain": [
       "(500, 6)"
      ]
     },
     "execution_count": 7,
     "metadata": {},
     "output_type": "execute_result"
    }
   ],
   "source": [
    "eval_data.shape"
   ]
  },
  {
   "cell_type": "markdown",
   "metadata": {},
   "source": [
    "### deepseek-chat-v3 - финальный промпт для классификации"
   ]
  },
  {
   "cell_type": "code",
   "execution_count": 179,
   "metadata": {},
   "outputs": [],
   "source": [
    "# Вызываем модель и передаем ей инструменты\n",
    "load_dotenv()\n",
    "client = OpenAI(\n",
    "    base_url=\"https://api.ai-mediator.ru/v1\",\n",
    "    api_key=os.getenv(\"OPENAI_API_KEY\"),\n",
    ")"
   ]
  },
  {
   "cell_type": "code",
   "execution_count": 180,
   "metadata": {},
   "outputs": [],
   "source": [
    "# Определение типов для структуры данных\n",
    "class OrganizationData(TypedDict):\n",
    "    user_query: str\n",
    "    organization_address: str\n",
    "    organization_name: str\n",
    "    summary: str\n",
    "    classification: str"
   ]
  },
  {
   "cell_type": "markdown",
   "metadata": {},
   "source": [
    "Тут представлена версия промпта, доработанная в ходе построения агента. Это финальная версия для классификационного этапа."
   ]
  },
  {
   "cell_type": "code",
   "execution_count": 181,
   "metadata": {},
   "outputs": [],
   "source": [
    "# Системный промпт для классификации\n",
    "\n",
    "SYSTEM_PROMPT = \"\"\"Ты помощник для классификации организаций по релевантности пользовательскому запросу.\n",
    "Оцени, подходит ли организация к данному запросу. Отвечай только \"relevant\" или \"irrelevant\".\n",
    "\n",
    "**Правила:**\n",
    "1. Сначала определи, есть ли в запросе географические указания (город, район, адрес). Если нет - пункт 2 не применяй.\n",
    "2. Учитывай географическую принадлежность к городу (ТОЛЬКО если в запросе явно указан город)\n",
    "3. Учитывай совпадение по ключевым словам (\"налоговая\", \"больница\", \"ресторан\" и т.д.):\n",
    "   - анализируй тип деятельности организации и соответствие запросу — даже если совпадений по словам немного, \n",
    "   но смысловой контекст пересекается, отмечай как relevant.\n",
    "4. Учитывай совпадение по номеру (если цифры есть в запросе)\n",
    "5. Оцени другие возможные критерии, исходя из которых можно сделать вывод \"relevant\" или \"irrelevant\".\n",
    "\n",
    "**Примеры:**\n",
    "Запрос \"налоговая 5007\" → проверяй только ключевые слова и номер\n",
    "Запрос \"больница в Королёве\" → проверяй ключевые слова и геолокацию\n",
    "\"\"\""
   ]
  },
  {
   "cell_type": "markdown",
   "metadata": {},
   "source": [
    "**в `classify_organization` прописать модель**"
   ]
  },
  {
   "cell_type": "code",
   "execution_count": 182,
   "metadata": {},
   "outputs": [],
   "source": [
    "def classify_organization(row: pd.Series) -> str:\n",
    "    \"\"\"Определяет релевантность организации запросу пользователя\"\"\"\n",
    "    \n",
    "    # Формируем пользовательский промпт\n",
    "    user_prompt = f\"\"\"\n",
    "    ЗАПРОС ПОЛЬЗОВАТЕЛЯ: {row['text']}\n",
    "    \n",
    "    ИНФОРМАЦИЯ ОБ ОРГАНИЗАЦИИ:\n",
    "    - Адрес: {row['address']}\n",
    "    - Название: {row['name']}\n",
    "    - Сводка: {row['summarized']}\n",
    "    \"\"\"\n",
    "    \n",
    "    # Вызов модели\n",
    "    response = client.chat.completions.create(\n",
    "        model=\"deepseek/deepseek-chat-v3-0324\",\n",
    "        messages=[\n",
    "            {\"role\": \"system\", \"content\": SYSTEM_PROMPT},\n",
    "            {\"role\": \"user\", \"content\": user_prompt}\n",
    "        ],\n",
    "        temperature=0,\n",
    "    )\n",
    "    \n",
    "    # Получаем и возвращаем классификацию\n",
    "    return response.choices[0].message.content.strip().lower()"
   ]
  },
  {
   "cell_type": "code",
   "execution_count": 183,
   "metadata": {},
   "outputs": [],
   "source": [
    "def process_dataframe(df: pd.DataFrame) -> pd.DataFrame:\n",
    "    \"\"\"Обрабатывает DataFrame с данными организаций\"\"\"\n",
    "    \n",
    "    # Создаем копию DataFrame для результатов\n",
    "    result_df = df.copy()\n",
    "    \n",
    "    # Добавляем столбец с классификацией\n",
    "    tqdm.pandas(desc=\"Classifying organizations\")\n",
    "    result_df['llm_rel'] = df.progress_apply(classify_organization, axis=1)\n",
    "    \n",
    "    return result_df"
   ]
  },
  {
   "cell_type": "code",
   "execution_count": 184,
   "metadata": {},
   "outputs": [
    {
     "data": {
      "application/vnd.jupyter.widget-view+json": {
       "model_id": "c114d15e54524a40bebbf4d1f802a10c",
       "version_major": 2,
       "version_minor": 0
      },
      "text/plain": [
       "Classifying organizations:   0%|          | 0/500 [00:00<?, ?it/s]"
      ]
     },
     "metadata": {},
     "output_type": "display_data"
    }
   ],
   "source": [
    "# Обрабатываем данные\n",
    "classified_data = process_dataframe(eval_data)"
   ]
  },
  {
   "cell_type": "code",
   "execution_count": 185,
   "metadata": {},
   "outputs": [],
   "source": [
    "classified_data['llm_rel'] = np.where(classified_data['llm_rel'].str.contains('irrelevant'), 0, 1)"
   ]
  },
  {
   "cell_type": "code",
   "execution_count": 186,
   "metadata": {},
   "outputs": [],
   "source": [
    "# classified_data"
   ]
  },
  {
   "cell_type": "markdown",
   "metadata": {},
   "source": [
    "Результат сохраняем в файл"
   ]
  },
  {
   "cell_type": "code",
   "execution_count": null,
   "metadata": {},
   "outputs": [],
   "source": [
    "# classified_data.to_excel('V3_test_final_prompt.xlsx')"
   ]
  },
  {
   "cell_type": "code",
   "execution_count": null,
   "metadata": {},
   "outputs": [],
   "source": [
    "classified_data = pd.read_excel('V3_test_final_prompt.xlsx')"
   ]
  },
  {
   "cell_type": "code",
   "execution_count": 189,
   "metadata": {},
   "outputs": [
    {
     "name": "stdout",
     "output_type": "stream",
     "text": [
      "Accuracy: 0.66\n",
      "Accuracy_new: 0.77\n"
     ]
    }
   ],
   "source": [
    "from sklearn.metrics import accuracy_score\n",
    "\n",
    "accuracy = accuracy_score(classified_data['relevance'], classified_data['llm_rel'])\n",
    "accuracy_new = accuracy_score(classified_data['relevance_new'], classified_data['llm_rel'])\n",
    "print(f\"Accuracy: {accuracy:.2f}\", f\"Accuracy_new: {accuracy_new:.2f}\", sep='\\n')"
   ]
  },
  {
   "cell_type": "markdown",
   "metadata": {},
   "source": [
    "**Вывод**\n",
    "- deepseek-chat-v3-0324: 24 руб за 500 запросов. 8м 30сек. Accuracy = 0.66/0.77 "
   ]
  },
  {
   "cell_type": "markdown",
   "metadata": {},
   "source": [
    "На измененном промпте данная модель показала accuracy  равный 0.77 на новой разметке. Это на 8% выше, чем эта-же модель на стартовом промпте. Вместе с тем, изменения в финальном промте вовсе не носят радикальный характер, а лишь слегка изменяют/дополняют стартовый.  \n",
    "Однако данная модель LLM очень \"чутко\"/\"капризно\" реагирует на любые изменения в промптах. Это важный аспект, который явно следует учитывать при выборе модели LLM под те или иные задачи. "
   ]
  },
  {
   "cell_type": "code",
   "execution_count": null,
   "metadata": {},
   "outputs": [],
   "source": []
  },
  {
   "cell_type": "code",
   "execution_count": null,
   "metadata": {},
   "outputs": [],
   "source": []
  }
 ],
 "metadata": {
  "colab": {
   "provenance": []
  },
  "kernelspec": {
   "display_name": "Python 3 (ipykernel)",
   "language": "python",
   "name": "python3"
  },
  "language_info": {
   "codemirror_mode": {
    "name": "ipython",
    "version": 3
   },
   "file_extension": ".py",
   "mimetype": "text/x-python",
   "name": "python",
   "nbconvert_exporter": "python",
   "pygments_lexer": "ipython3",
   "version": "3.9.10"
  }
 },
 "nbformat": 4,
 "nbformat_minor": 4
}
