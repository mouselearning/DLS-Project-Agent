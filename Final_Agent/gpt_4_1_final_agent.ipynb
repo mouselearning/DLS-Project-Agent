{
 "cells": [
  {
   "cell_type": "code",
   "execution_count": 1,
   "metadata": {},
   "outputs": [],
   "source": [
    "import math\n",
    "import random\n",
    "import pandas as pd\n",
    "import numpy as np\n",
    "\n",
    "from IPython.display import clear_output\n",
    "from tqdm.notebook import tqdm"
   ]
  },
  {
   "cell_type": "code",
   "execution_count": 2,
   "metadata": {},
   "outputs": [],
   "source": [
    "seed = 61\n",
    "random.seed(seed)\n",
    "np.random.seed(seed)"
   ]
  },
  {
   "cell_type": "code",
   "execution_count": 3,
   "metadata": {},
   "outputs": [],
   "source": [
    "import os\n",
    "from typing import Annotated, Sequence, TypedDict, List, Dict\n",
    "from dotenv import load_dotenv  \n",
    "from langchain_core.messages import BaseMessage \n",
    "from langchain_core.messages import ToolMessage \n",
    "from langchain_core.messages import SystemMessage \n",
    "from langchain_openai import ChatOpenAI\n",
    "from langchain_core.tools import tool\n",
    "from langgraph.graph.message import add_messages\n",
    "from langgraph.graph import StateGraph, START, END\n",
    "from langgraph.prebuilt import ToolNode\n",
    "from langchain_core.prompts import ChatPromptTemplate\n",
    "from langchain_community.tools import DuckDuckGoSearchRun, Tool\n",
    "from tavily import TavilyClient"
   ]
  },
  {
   "cell_type": "markdown",
   "metadata": {
    "id": "XSXK6Hu3RoN0"
   },
   "source": [
    "## Загрузка данных"
   ]
  },
  {
   "cell_type": "code",
   "execution_count": 4,
   "metadata": {},
   "outputs": [],
   "source": [
    "data = pd.read_json(\"data_final_for_dls_new.jsonl\", lines=True)\n",
    "data.columns = ['text', 'address', 'name', 'norm_name_ru', 'permalink', 'prices_summarized', 'relevance', 'reviews_summarized', 'relevance_new']\n",
    "train_data = data[570:]\n",
    "eval_data = data[:570]\n",
    "train_data = train_data[train_data[\"relevance\"] != 0.1].reset_index(drop=True)\n",
    "eval_data = eval_data[eval_data[\"relevance\"] != 0.1].reset_index(drop=True)"
   ]
  },
  {
   "cell_type": "markdown",
   "metadata": {},
   "source": [
    "Проводилась небольшая подготовка данных. В колонку `summarized` объединялись данные из 'norm_name_ru', 'prices_summarized', 'reviews_summarized'. \"Лишние\" колонки затем удалялись, для более удобного восприятия и отображения датасета.  \n",
    "Также из колонки reviews_summarized удалялись данные после \"общей\" информации об организации. Это делалось, во-первых, поскольку в подавляющем большинстве случаев это была малополезная инфо без конкретики, во-вторых, чтобы стимулировать агента проверять инфо в интернете."
   ]
  },
  {
   "cell_type": "code",
   "execution_count": 5,
   "metadata": {},
   "outputs": [],
   "source": [
    "eval_data['reviews_summarized'] = eval_data['reviews_summarized'].fillna(\";\")\n",
    "eval_data['prices_summarized'] = eval_data['prices_summarized'].fillna(\";\")\n",
    "eval_data['reviews_summarized'] = eval_data['reviews_summarized'].str.split(r'[\\n|]').str[0].str.strip()\n",
    "eval_data['summarized'] = (eval_data['norm_name_ru'] + ' ; ' + eval_data['prices_summarized'] + ' ; ' + eval_data['reviews_summarized'])\n",
    "eval_data.drop(columns=['norm_name_ru', 'prices_summarized', 'reviews_summarized', 'permalink'], inplace=True)"
   ]
  },
  {
   "cell_type": "code",
   "execution_count": 37,
   "metadata": {},
   "outputs": [],
   "source": [
    "# eval_data.to_excel('eval_data_summarized.xlsx')"
   ]
  },
  {
   "cell_type": "code",
   "execution_count": 10,
   "metadata": {
    "id": "fxnlLY9UPnjd"
   },
   "outputs": [],
   "source": [
    "# eval_data = pd.read_excel('eval_data_summarized.xlsx')\n",
    "# eval_data.drop('Unnamed: 0', axis=1, inplace=True)"
   ]
  },
  {
   "cell_type": "code",
   "execution_count": 6,
   "metadata": {},
   "outputs": [
    {
     "data": {
      "text/html": [
       "<div>\n",
       "<style scoped>\n",
       "    .dataframe tbody tr th:only-of-type {\n",
       "        vertical-align: middle;\n",
       "    }\n",
       "\n",
       "    .dataframe tbody tr th {\n",
       "        vertical-align: top;\n",
       "    }\n",
       "\n",
       "    .dataframe thead th {\n",
       "        text-align: right;\n",
       "    }\n",
       "</style>\n",
       "<table border=\"1\" class=\"dataframe\">\n",
       "  <thead>\n",
       "    <tr style=\"text-align: right;\">\n",
       "      <th></th>\n",
       "      <th>text</th>\n",
       "      <th>address</th>\n",
       "      <th>name</th>\n",
       "      <th>relevance</th>\n",
       "      <th>relevance_new</th>\n",
       "      <th>summarized</th>\n",
       "    </tr>\n",
       "  </thead>\n",
       "  <tbody>\n",
       "    <tr>\n",
       "      <th>0</th>\n",
       "      <td>сигары</td>\n",
       "      <td>Москва, Дубравная улица, 34/29</td>\n",
       "      <td>Tabaccos; Магазин Tabaccos; Табаккос</td>\n",
       "      <td>1.0</td>\n",
       "      <td>1.0</td>\n",
       "      <td>Магазин табака и курительных принадлежностей ;...</td>\n",
       "    </tr>\n",
       "    <tr>\n",
       "      <th>1</th>\n",
       "      <td>кальянная спб мероприятия</td>\n",
       "      <td>Санкт-Петербург, Большой проспект Петроградско...</td>\n",
       "      <td>PioNero; Pionero; Пицца Паста бар; Pio Nero; P...</td>\n",
       "      <td>0.0</td>\n",
       "      <td>0.0</td>\n",
       "      <td>Кафе ; PioNero предлагает разнообразные блюда ...</td>\n",
       "    </tr>\n",
       "  </tbody>\n",
       "</table>\n",
       "</div>"
      ],
      "text/plain": [
       "                        text  \\\n",
       "0                     сигары   \n",
       "1  кальянная спб мероприятия   \n",
       "\n",
       "                                             address  \\\n",
       "0                     Москва, Дубравная улица, 34/29   \n",
       "1  Санкт-Петербург, Большой проспект Петроградско...   \n",
       "\n",
       "                                                name  relevance  \\\n",
       "0               Tabaccos; Магазин Tabaccos; Табаккос        1.0   \n",
       "1  PioNero; Pionero; Пицца Паста бар; Pio Nero; P...        0.0   \n",
       "\n",
       "   relevance_new                                         summarized  \n",
       "0            1.0  Магазин табака и курительных принадлежностей ;...  \n",
       "1            0.0  Кафе ; PioNero предлагает разнообразные блюда ...  "
      ]
     },
     "execution_count": 6,
     "metadata": {},
     "output_type": "execute_result"
    }
   ],
   "source": [
    "eval_data.head(2)"
   ]
  },
  {
   "cell_type": "code",
   "execution_count": 7,
   "metadata": {},
   "outputs": [
    {
     "data": {
      "text/plain": [
       "(500, 6)"
      ]
     },
     "execution_count": 7,
     "metadata": {},
     "output_type": "execute_result"
    }
   ],
   "source": [
    "eval_data.shape"
   ]
  },
  {
   "cell_type": "markdown",
   "metadata": {},
   "source": [
    "Для проверки агента на всем тестовом наборе было решено разбить данные на 5 частей по 100 строк. Это было сделано, из за опасений, что сервис-поисковик Tavily может иметь ограничения на дневной лимит (в пробном тарифе). По этой причине данные запускались частями. А затем объединялись снова в один файл. Это не на что не влияет, просто была такая перестраховка."
   ]
  },
  {
   "cell_type": "code",
   "execution_count": 8,
   "metadata": {},
   "outputs": [],
   "source": [
    "eval_data_1 = eval_data.iloc[0:100]\n",
    "eval_data_2 = eval_data.iloc[100:200]\n",
    "eval_data_3 = eval_data.iloc[200:300]\n",
    "eval_data_4 = eval_data.iloc[300:400]\n",
    "eval_data_5 = eval_data.iloc[400:500]"
   ]
  },
  {
   "cell_type": "code",
   "execution_count": 9,
   "metadata": {},
   "outputs": [
    {
     "data": {
      "text/plain": [
       "((100, 6), (100, 6), (100, 6), (100, 6), (100, 6))"
      ]
     },
     "execution_count": 9,
     "metadata": {},
     "output_type": "execute_result"
    }
   ],
   "source": [
    "eval_data_1.shape, eval_data_2.shape, eval_data_3.shape, eval_data_4.shape, eval_data_5.shape"
   ]
  },
  {
   "cell_type": "markdown",
   "metadata": {},
   "source": [
    "### Агент - gpt-4.1"
   ]
  },
  {
   "cell_type": "markdown",
   "metadata": {},
   "source": [
    "**Общая концепция агента**  \n",
    "1) Агент оценивает, достаточно ли ему информации для принятия решения о релевантности запроса.\n",
    "2) Если инфо не достаточно, то используем инструмент для получения доп инфо (идем в граф получения доп инфо из интернета)\n",
    "3)  После получения доп инфо или если инфо было достаточно идем в граф принятия решения о релевантности.\n",
    "4)  Конец работы агента.\n",
    "\n",
    "**На шаге 1**, если не достаточно инфо, LLM кратко описывает какой инфо ей не хватает и агент записывает это в один из элементов состояния (subject_of_clarification).  \n",
    "**На шаге 2** агент идет в отдельный узел - add_info. В нем, на основе subject_of_clarification и других данных агент должен формировать запрос в интернет. Причем запрос должен быть \"теговым\", например, «Кафе Якитория меню пицца» и т.п.  \n",
    "**`Важный маленький нюанс.`** По идее агент может несколько раз уточнять инфо в посковике, вновь проходить оценку достаточности и т.д. Но, т.к. у Tavily есть ограничения на пробном тарифе, тут я умышленно ограничил агента лишь одним запросом и принудительным переходом в классификацию, если запросы уже были. Это вынужденная мера, чтобы хватило лимита запросов и на тестирование и на запуск нескольких агентов.  \n",
    "**На шаге 3** происходит классификация на основе имеющихся или дополученных данных.  \n",
    "**В конце** работы агента мы получаем размеченный датасет. Также будут добавлены новые колонки:  \n",
    "sufficiency - достаточно/недостаточно инфо было на первом этапе.  \n",
    "classification - \"relevant\" / \"irrelevant\".  \n",
    "additional_info - ответ поисковика Tavily.  \n",
    "subject_of_clarification - какой инфо не хватало агенту на первом этапе.  \n",
    "search_query - запрос агента в поисковик.  \n",
    "agent_cls - бинарная метка классификации (1/0)."
   ]
  },
  {
   "cell_type": "code",
   "execution_count": 11,
   "metadata": {},
   "outputs": [],
   "source": [
    "# Вызываем модель и передаем ей инструменты\n",
    "load_dotenv()\n",
    "model = ChatOpenAI(\n",
    "    model=\"gpt-4.1\",  # Модель\n",
    "    base_url=\"https://api.ai-mediator.ru/v1\",  # URL API\n",
    "    api_key=os.getenv(\"OPENAI_API_KEY\"),  # Ключ из переменных окружения\n",
    "    temperature=0,  # \n",
    "    )\n",
    "\n",
    "# Загружаем ключи для поисковика - TAVILY_API_KEY из .env\n",
    "tavily = TavilyClient(api_key=os.getenv(\"TAVILY_API_KEY\")) "
   ]
  },
  {
   "cell_type": "code",
   "execution_count": 12,
   "metadata": {},
   "outputs": [],
   "source": [
    "# Описываем состояние агента\n",
    "class AgentState(TypedDict):\n",
    "    user_query: str                # запрс пользователя\n",
    "    organization_address: str      # \n",
    "    organization_name: str         # \n",
    "    summary: str                   # обобщенная инфо\n",
    "    sufficiency: List[str]         # \"ДОСТАТОЧНО\" / \"НЕДОСТАТОЧНО: <причина>\"\n",
    "    classification: str            # \"relevant\" / \"irrelevant\"\n",
    "    additional_info: str           # получение доп инфо из интернета\n",
    "    number_of_requests: int        # число запросов в интернет\n",
    "    subject_of_clarification: str  # что требуется уточнить\n",
    "    search_query: str              # поисковый запрос от LLM"
   ]
  },
  {
   "cell_type": "markdown",
   "metadata": {},
   "source": [
    "В разделе ниже представлены финальные промпты, каждый из которых прошел несколько этапов улучшений."
   ]
  },
  {
   "cell_type": "code",
   "execution_count": 13,
   "metadata": {},
   "outputs": [],
   "source": [
    "# Раздел с промптами\n",
    "\n",
    "# ПРОМПТ ДЛЯ ЗАДАЧИ ОПРЕДЕЛЕНИЯ ДОСТАТОЧНОСТИ ИНФО\n",
    "SUFFICIENCY_PROMPT = SystemMessage(content=\"\"\"\n",
    "**Задача:** Оцени, ДОСТАТОЧНО или НЕДОСТАТОЧНО предоставленной информации об организации \n",
    "('Адрес', 'Название', 'Сводка' и 'Дополнительная информация'), чтобы уверенно понять \n",
    "ОТНОСИТСЯ или НЕ ОТНОСИТСЯ организация к 'user_query' (запросу пользователя).\n",
    "\n",
    "**Критерии оценки:**\n",
    "1. **География**  \n",
    "   а) Определи, есть ли в запросе географические указания (город, район). Если город в запросе не указан → игнорируй этот пункт.\n",
    "   б) Если в запросе указан город, а город в адресе организации не совпадает с ним → информации ДОСТАТОЧНО для понимания НЕ ОТНОСИТСЯ.  \n",
    "   \n",
    "2. **Контекстуальное соответствие**  \n",
    "   а) Если профиль деятельности организации (из названия/описания) **явно не связан** с запросом → информации ДОСТАТОЧНО для понимания - НЕ ОТНОСИТСЯ. \n",
    "       - Пример: тип организации - ресторан/автосервис/прачечная при запросе \"стоматолог\" → отвечай \"ДОСТАТОЧНО\". \n",
    "   б) Если явно следует, что организация относится к запросу пользователя → информации ДОСТАТОЧНО для понимания ОТНОСИТСЯ. \n",
    "       - Пример: тип организации - Челябинский театр оперы и балета, запрос \"театр афиша\", тип организации - строительный магазин, запрос \"купть цемент\".\n",
    "   \n",
    "3. **Дополнительные признаки**  \n",
    "   Оцени другие возможные критерии, исходя из которых можно сделать вывод об информации: \"ДОСТАТОЧНО\" или \"НЕДОСТАТОЧНО\".\n",
    "\n",
    "**Твой вывод ДОЛЖЕН быть одним из вариантов:**\n",
    "*   Если на основе имеющейся информации об организации можно уверенно понять относится ли организация к ЗАПРОСУ ПОЛЬЗОВАТЕЛЯ - дай ответ в одно слово \"ДОСТАТОЧНО\"\n",
    "*   Если информации недостаточно — выведи слово \"НЕДОСТАТОЧНО\", затем через двоеточие кратко укажи, какой критической информации не хватает.\n",
    "\"\"\")\n",
    "\n",
    "# ПРОМПТ ДЛЯ ЗАДАЧИ ОПРЕДЕЛЕНИЯ РЕЛЕВАНТНОСТИ\n",
    "SYSTEM_PROMPT = SystemMessage(content=\"\"\"\n",
    "Ты помощник для классификации организаций по релевантности пользовательскому запросу.\n",
    "Оцени, подходит ли организация к данному запросу. Отвечай только \"relevant\" или \"irrelevant\".\n",
    "\n",
    "**Правила:**\n",
    "1. Сначала определи, есть ли в запросе географические указания (город, район, адрес). Если нет - пункт 2 не применяй.\n",
    "2. Учитывай географическую принадлежность к городу (ТОЛЬКО если в запросе явно указан город)\n",
    "3. Учитывай совпадение по ключевым словам (\"налоговая\", \"больница\", \"ресторан\" и т.д.):\n",
    "   - анализируй тип деятельности организации и соответствие запросу — даже если совпадений по словам немного, \n",
    "   но смысловой контекст пересекается, отмечай как relevant.\n",
    "4. Учитывай совпадение по номеру (если цифры есть в запросе)\n",
    "5. Оцени другие возможные критерии, исходя из которых можно сделать вывод \"relevant\" или \"irrelevant\".\n",
    "\n",
    "**Примеры:**\n",
    "Запрос \"налоговая 5007\" → проверяй только ключевые слова и номер\n",
    "Запрос \"больница в Королёве\" → проверяй ключевые слова и геолокацию\n",
    "\"\"\")\n",
    "\n",
    "# ПРОМПТ ФОРМИРОВАНИЯ ЗАПРОСА В ИНТЕРНЕТ\n",
    "SEARCH_PROMPT = ChatPromptTemplate.from_template(\n",
    "    \"\"\"Сформируй точный поисковый запрос (4-7 слов) для Tavily. \n",
    "    Цель: найти информацию об организации {organization_name} ({organization_address}) \n",
    "    по теме: {subject_of_clarification}\n",
    "    \n",
    "    Примеры хороших запросов:\n",
    "    - \"официальный сайт ООО Ромашка Москва\"\n",
    "    - \"отзывы о банке ВТБ Королёв\"\n",
    "    - \"деятельность ИП Сидоров производство мебели\"\n",
    "    \n",
    "    Только запрос, без кавычек и точек.\"\"\"\n",
    ")"
   ]
  },
  {
   "cell_type": "markdown",
   "metadata": {},
   "source": [
    "Маленькая особенность функции `sufficiency_of_info` состоит в том, что если запросы в интернет уже состоялись, то принудительно уходим на классификацию с той инфо, что есть. Причина описана в разделе по концепции агента."
   ]
  },
  {
   "cell_type": "code",
   "execution_count": 14,
   "metadata": {},
   "outputs": [],
   "source": [
    "def sufficiency_of_info(state: AgentState) -> AgentState:\n",
    "    \"\"\" Определеят достаточно ли информации для принятия решения \"\"\"\n",
    "    # Принудительный переход к классификации если были предыдущие запросы\n",
    "    if state['number_of_requests'] > 0:\n",
    "        state['sufficiency'].append(\"ДОСТАТОЧНО (принудительно)\")\n",
    "        return state\n",
    "        \n",
    "    # Оригинальная логика оценки достаточности\n",
    "    user_prompt = f\"\"\"\n",
    "    ЗАПРОС ПОЛЬЗОВАТЕЛЯ: {state['user_query']}\n",
    "    \n",
    "    ИНФОРМАЦИЯ ОБ ОРГАНИЗАЦИИ:\n",
    "    - Адрес: {state['organization_address']}\n",
    "    - Название: {state['organization_name']}\n",
    "    - Сводка: {state['summary']}\n",
    "    - Дополнительная информация: {state['additional_info']}\n",
    "    - Количество запросов: {state['number_of_requests']}\n",
    "    \"\"\"\n",
    "\n",
    "    # Вызов модели с обработкой ответа\n",
    "    response = model.invoke([SUFFICIENCY_PROMPT, user_prompt])\n",
    "    \n",
    "    # Простая валидация ответа\n",
    "    sufficiency = response.content\n",
    "    state['sufficiency'].append(sufficiency)\n",
    "    if \"НЕДОСТАТОЧНО\" in state['sufficiency'][-1]:\n",
    "        state['subject_of_clarification'] = sufficiency.split(\":\")[-1].strip()\n",
    "    \n",
    "    # Возвращаем обновленное состояние\n",
    "    return state"
   ]
  },
  {
   "cell_type": "markdown",
   "metadata": {},
   "source": [
    "Тут получаем доп инфо через посковик Tavily."
   ]
  },
  {
   "cell_type": "code",
   "execution_count": 15,
   "metadata": {},
   "outputs": [],
   "source": [
    "def add_info(state: AgentState) -> AgentState:\n",
    "    \"\"\"Функция для получения дополнительной информации\"\"\"\n",
    "    # Формируем поисковый запрос \n",
    "    prompt = SEARCH_PROMPT.format(\n",
    "        organization_address=state['organization_address'],\n",
    "        organization_name=state[\"organization_name\"],\n",
    "        subject_of_clarification=state[\"subject_of_clarification\"]\n",
    "    )\n",
    "    search_query = model.invoke(prompt).content\n",
    "    \n",
    "    # Поиск через Tavily\n",
    "    search_results = tavily.search(\n",
    "        query=search_query,\n",
    "        search_depth=\"basic\",  # \"advanced\" для глубокого поиска (но дольше)\n",
    "        include_answer=True,    # Tavily сам суммирует результаты\n",
    "        include_raw_content=True,\n",
    "        include_images=False,\n",
    "        max_results=3,          # Оптимально для нашей задачи\n",
    "    )\n",
    "    \n",
    "    # Форматируем результаты для агента\n",
    "    formatted_results = (\n",
    "        f\"Ответ Tavily: {search_results.get('answer', 'Нет краткого ответа')} \" \n",
    "        f\"Источники: \" + \" \".join([f\"- {src['url']}: {src['content']};\" \n",
    "                                   for src in search_results.get('results', [])])\n",
    "    )\n",
    "    \n",
    "    # Обновляем состояние\n",
    "    state['search_query'] = search_query\n",
    "    state['additional_info'] = formatted_results\n",
    "    state['number_of_requests'] += 1\n",
    "        \n",
    "    return state"
   ]
  },
  {
   "cell_type": "markdown",
   "metadata": {},
   "source": [
    "Этап классификации"
   ]
  },
  {
   "cell_type": "code",
   "execution_count": 16,
   "metadata": {},
   "outputs": [],
   "source": [
    "def classify_relevance(state: AgentState) -> AgentState:\n",
    "    \"\"\"Определяет релевантна ли организация запросу пользователя\"\"\"\n",
    "    \n",
    "    # Формируем понятный запрос к модели\n",
    "    user_prompt = f\"\"\"\n",
    "    ЗАПРОС ПОЛЬЗОВАТЕЛЯ: {state['user_query']}\n",
    "    \n",
    "    ИНФОРМАЦИЯ ОБ ОРГАНИЗАЦИИ:\n",
    "    - Адрес: {state['organization_address']}\n",
    "    - Название: {state['organization_name']}\n",
    "    - Сводка: {state['summary']}\n",
    "    - Дополнительная информация: {state['additional_info']}\n",
    "    \"\"\"\n",
    "    \n",
    "    # Вызов модели с обработкой ответа\n",
    "    response = model.invoke([SYSTEM_PROMPT, user_prompt])\n",
    "   \n",
    "    # Простая валидация ответа\n",
    "    classification = response.content\n",
    "    \n",
    "    # Возвращаем обновленное состояние\n",
    "    return {**state, \"classification\": classification}"
   ]
  },
  {
   "cell_type": "markdown",
   "metadata": {},
   "source": [
    "Функция роутер. Если инфо было недостаточно для решения, отправит на узел получения доп инфо"
   ]
  },
  {
   "cell_type": "code",
   "execution_count": 17,
   "metadata": {},
   "outputs": [],
   "source": [
    "def router(state: AgentState) -> str:\n",
    "    # Принудительно идем на классификацию если были попытки запроса\n",
    "    if state['number_of_requests'] > 0:\n",
    "        return \"proceed_to_classify\"\n",
    "        \n",
    "    # Стандартная логика\n",
    "    if \"НЕДОСТАТОЧНО\" in state['sufficiency'][-1]:\n",
    "        return \"need_more_info\"\n",
    "    return \"proceed_to_classify\""
   ]
  },
  {
   "cell_type": "code",
   "execution_count": 18,
   "metadata": {},
   "outputs": [],
   "source": [
    "# Собираем полный граф\n",
    "graph = StateGraph(AgentState)\n",
    "\n",
    "# Добавляем узлы\n",
    "graph.add_node('info_sufficiency', sufficiency_of_info)\n",
    "graph.add_node('add_info',  add_info)\n",
    "graph.add_node('classify', classify_relevance)\n",
    "\n",
    "# Добавляем ребра\n",
    "graph.add_edge(START, 'info_sufficiency')\n",
    "graph.add_conditional_edges(\n",
    "    'info_sufficiency',\n",
    "    router,\n",
    "    {\n",
    "        \"need_more_info\": \"add_info\",\n",
    "        \"proceed_to_classify\": \"classify\"\n",
    "    }\n",
    ")\n",
    "graph.add_edge('add_info', 'info_sufficiency')\n",
    "graph.add_edge('classify', END)\n",
    "\n",
    "app = graph.compile()"
   ]
  },
  {
   "cell_type": "code",
   "execution_count": 19,
   "metadata": {
    "scrolled": true
   },
   "outputs": [
    {
     "data": {
      "image/png": "[encoded data removed]",
      "text/plain": [
       "<IPython.core.display.Image object>"
      ]
     },
     "metadata": {},
     "output_type": "display_data"
    }
   ],
   "source": [
    "from IPython.display import Image, display\n",
    "display(Image(app.get_graph().draw_mermaid_png()))"
   ]
  },
  {
   "cell_type": "markdown",
   "metadata": {},
   "source": [
    "Функция для запуска агента. Принимает датафрейм и агента. Возвращает размеченный датафрейм."
   ]
  },
  {
   "cell_type": "code",
   "execution_count": 20,
   "metadata": {},
   "outputs": [],
   "source": [
    "def agent_classifier(\n",
    "    input_df: pd.DataFrame,\n",
    "    agent,\n",
    "    text_col: str = 'text',\n",
    "    address_col: str = 'address',\n",
    "    name_col: str = 'name',\n",
    "    summary_col: str = 'summarized'\n",
    ") -> pd.DataFrame:\n",
    "    \n",
    "    # Создаем временный уникальный ID для каждой строки\n",
    "    input_df = input_df.copy()\n",
    "    input_df['_temp_id'] = range(len(input_df))\n",
    "    \n",
    "    results = []\n",
    "    \n",
    "    for _, row in tqdm(input_df.iterrows(), total=len(input_df)):\n",
    "        initial_state = {\n",
    "            \"user_query\": row[text_col],\n",
    "            \"organization_address\": row[address_col],\n",
    "            \"organization_name\": row[name_col],\n",
    "            \"summary\": row[summary_col],\n",
    "            \"sufficiency\": [],\n",
    "            \"classification\": \"\",\n",
    "            \"additional_info\": \"\",\n",
    "            \"number_of_requests\": 0,\n",
    "            \"subject_of_clarification\": \"\",\n",
    "            \"search_query\": \"\"\n",
    "        }\n",
    "        \n",
    "        result = agent.invoke(initial_state)\n",
    "        \n",
    "        results.append({\n",
    "            \"_temp_id\": row['_temp_id'],  # Сохраняем временный ID\n",
    "            \"sufficiency\": result[\"sufficiency\"],\n",
    "            \"classification\": result[\"classification\"],\n",
    "            \"additional_info\": result[\"additional_info\"],\n",
    "            \"subject_of_clarification\": result[\"subject_of_clarification\"],\n",
    "            \"search_query\": result[\"search_query\"]\n",
    "        })\n",
    "\n",
    "    results_df = pd.DataFrame(results)\n",
    "    results_df['agent_cls'] = np.where(results_df['classification'].str.contains('irrelevant'), 0, 1)\n",
    "    \n",
    "    # Объединяем по временному ID\n",
    "    merged_df = pd.merge(input_df, results_df, on='_temp_id', how='left')\n",
    "    \n",
    "    # Удаляем временную колонку\n",
    "    merged_df = merged_df.drop(columns=['_temp_id'])\n",
    "    \n",
    "    return merged_df"
   ]
  },
  {
   "cell_type": "code",
   "execution_count": 38,
   "metadata": {},
   "outputs": [
    {
     "data": {
      "text/plain": [
       "(100, 6)"
      ]
     },
     "execution_count": 38,
     "metadata": {},
     "output_type": "execute_result"
    }
   ],
   "source": [
    "eval_data_5.shape"
   ]
  },
  {
   "cell_type": "markdown",
   "metadata": {},
   "source": [
    "**Запускаем нашу функцию**"
   ]
  },
  {
   "cell_type": "code",
   "execution_count": 39,
   "metadata": {},
   "outputs": [
    {
     "data": {
      "application/vnd.jupyter.widget-view+json": {
       "model_id": "ba483e7b959843a7aa3b1c74626e7c4a",
       "version_major": 2,
       "version_minor": 0
      },
      "text/plain": [
       "  0%|          | 0/100 [00:00<?, ?it/s]"
      ]
     },
     "metadata": {},
     "output_type": "display_data"
    }
   ],
   "source": [
    "# Разметка через агента\n",
    "labelled_df = agent_classifier(eval_data_5, app)"
   ]
  },
  {
   "cell_type": "code",
   "execution_count": null,
   "metadata": {},
   "outputs": [],
   "source": [
    "labelled_df.to_excel('eval_5.xlsx')"
   ]
  },
  {
   "cell_type": "code",
   "execution_count": 49,
   "metadata": {},
   "outputs": [],
   "source": [
    "# labelled_df"
   ]
  },
  {
   "cell_type": "markdown",
   "metadata": {},
   "source": [
    "**сконкатенируем** назад в один файл, полученные датасеты"
   ]
  },
  {
   "cell_type": "code",
   "execution_count": 26,
   "metadata": {},
   "outputs": [],
   "source": [
    "eval_1 = pd.read_excel('eval_1.xlsx')\n",
    "eval_2 = pd.read_excel('eval_2.xlsx')\n",
    "eval_3 = pd.read_excel('eval_3.xlsx')\n",
    "eval_4 = pd.read_excel('eval_4.xlsx')\n",
    "eval_5 = pd.read_excel('eval_5.xlsx')"
   ]
  },
  {
   "cell_type": "code",
   "execution_count": 28,
   "metadata": {},
   "outputs": [],
   "source": [
    "classified_eval = pd.concat([eval_1, eval_2, eval_3, eval_4, eval_5], ignore_index=True)\n",
    "classified_eval.drop('Unnamed: 0', axis=1, inplace=True)"
   ]
  },
  {
   "cell_type": "markdown",
   "metadata": {},
   "source": [
    "Сохраним в отдельный файл итоговый результат, а затем считаем."
   ]
  },
  {
   "cell_type": "code",
   "execution_count": null,
   "metadata": {},
   "outputs": [],
   "source": [
    "# classified_eval.to_excel('gpt_4_1_final_agent.xlsx')"
   ]
  },
  {
   "cell_type": "code",
   "execution_count": 2,
   "metadata": {},
   "outputs": [],
   "source": [
    "classified_eval = pd.read_excel('gpt_4_1_final_agent.xlsx')"
   ]
  },
  {
   "cell_type": "markdown",
   "metadata": {},
   "source": [
    "**Смотрим метрику**  \n",
    "- вверху на старой разметке\n",
    "- внизу на новой."
   ]
  },
  {
   "cell_type": "code",
   "execution_count": 4,
   "metadata": {},
   "outputs": [
    {
     "name": "stdout",
     "output_type": "stream",
     "text": [
      "Accuracy: 0.640\n",
      "Accuracy_new: 0.772\n"
     ]
    }
   ],
   "source": [
    "from sklearn.metrics import accuracy_score\n",
    "\n",
    "accuracy = accuracy_score(classified_eval['relevance'], classified_eval['agent_cls'])\n",
    "accuracy_new = accuracy_score(classified_eval['relevance_new'], classified_eval['agent_cls'])\n",
    "print(f\"Accuracy: {accuracy:.3f}\", f\"Accuracy_new: {accuracy_new:.3f}\", sep='\\n')"
   ]
  },
  {
   "cell_type": "markdown",
   "metadata": {},
   "source": [
    "**Вывод**"
   ]
  },
  {
   "cell_type": "markdown",
   "metadata": {},
   "source": [
    "Получено значение accuracy на уровне 77,2%.  \n",
    "Агент обращается к поиску в интернете примерно в 30% процентах случаев.  \n",
    "Запросы формируются в целом адекватно тому, что требуется уточнить.  \n",
    "Большое значение имеет работа поисковика (в данном случае Tavily). Поскольку он в т.ч. агрегирует инфо могут встречаться случаи ошибки от Tavily. Возможно требуется создание доп инструмента парсинга сайтов из выдачи от Tavily.  \n",
    "\n",
    "**Необходимо проанализировать** случаи ошибки агента. Нет ли ошибок в разметке. Соотнести случаи поиска в интернете и решения агента с учетом новой инфо, рассмотреть были ли ошибочные решения, рассмотреть случаи ошибки в разметке.  \n",
    "\n",
    "**Основные выводы** по проекту будут представлены на страничке проекта в Github."
   ]
  },
  {
   "cell_type": "code",
   "execution_count": null,
   "metadata": {},
   "outputs": [],
   "source": []
  },
  {
   "cell_type": "code",
   "execution_count": null,
   "metadata": {},
   "outputs": [],
   "source": []
  },
  {
   "cell_type": "code",
   "execution_count": null,
   "metadata": {},
   "outputs": [],
   "source": []
  }
 ],
 "metadata": {
  "colab": {
   "provenance": []
  },
  "kernelspec": {
   "display_name": "Python 3 (ipykernel)",
   "language": "python",
   "name": "python3"
  },
  "language_info": {
   "codemirror_mode": {
    "name": "ipython",
    "version": 3
   },
   "file_extension": ".py",
   "mimetype": "text/x-python",
   "name": "python",
   "nbconvert_exporter": "python",
   "pygments_lexer": "ipython3",
   "version": "3.9.10"
  }
 },
 "nbformat": 4,
 "nbformat_minor": 4
}
